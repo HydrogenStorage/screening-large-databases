{
 "cells": [
  {
   "cell_type": "markdown",
   "id": "6ca06347-094e-49e5-806d-f1bef0492a7e",
   "metadata": {},
   "source": [
    "# Download the PubChem IDs and Names of Molecules\n",
    "Get the SMILES strings then add the names they are known by"
   ]
  },
  {
   "cell_type": "code",
   "execution_count": 1,
   "id": "65d4ae23-ef8a-4207-8a80-76f2af220137",
   "metadata": {},
   "outputs": [],
   "source": [
    "from cfree.store import MoleculeRecord\n",
    "from tempfile import TemporaryDirectory\n",
    "from multiprocessing.pool import Pool\n",
    "from pathlib import Path\n",
    "from typing import Optional\n",
    "from shutil import copyfileobj\n",
    "from more_itertools import peekable\n",
    "from mongoengine import connect\n",
    "from rdkit import RDLogger\n",
    "from tqdm import tqdm\n",
    "import requests\n",
    "import gzip"
   ]
  },
  {
   "cell_type": "markdown",
   "id": "ee971e25-7cdf-4d7c-b125-e77f0a6eb31a",
   "metadata": {},
   "source": [
    "Configuration"
   ]
  },
  {
   "cell_type": "code",
   "execution_count": 2,
   "id": "b6b510fb-4a40-42e8-82a1-1ac6741a6558",
   "metadata": {},
   "outputs": [],
   "source": [
    "write_chunk_size = 100000"
   ]
  },
  {
   "cell_type": "markdown",
   "id": "c0fc60d7-7395-4d62-a181-8427dfdbd1a2",
   "metadata": {},
   "source": [
    "Surpress complaints from RDKit"
   ]
  },
  {
   "cell_type": "code",
   "execution_count": 3,
   "id": "cfb8926f-6d94-4fd3-9d8d-b61dcdb0f013",
   "metadata": {},
   "outputs": [],
   "source": [
    "lg = RDLogger.logger()\n",
    "lg.setLevel(RDLogger.CRITICAL)"
   ]
  },
  {
   "cell_type": "markdown",
   "id": "e95b7280-2aa1-4cbd-a13b-ba331cec0d03",
   "metadata": {},
   "source": [
    "Connect to Mongo"
   ]
  },
  {
   "cell_type": "code",
   "execution_count": 4,
   "id": "0b7d7786-753a-46e2-be0c-9a02d001d840",
   "metadata": {},
   "outputs": [
    {
     "data": {
      "text/plain": [
       "MongoClient(host=['localhost:27017'], document_class=dict, tz_aware=False, connect=True, read_preference=Primary(), uuidrepresentation=3)"
      ]
     },
     "execution_count": 4,
     "metadata": {},
     "output_type": "execute_result"
    }
   ],
   "source": [
    "client = connect('cfree')\n",
    "client"
   ]
  },
  {
   "cell_type": "code",
   "execution_count": 5,
   "id": "f3608c98-7bc3-46cc-be99-04d920856337",
   "metadata": {},
   "outputs": [
    {
     "name": "stdout",
     "output_type": "stream",
     "text": [
      "Database already has 61435078 molecules\n"
     ]
    }
   ],
   "source": [
    "db = client['cfree']\n",
    "coll = db['molecule_record']\n",
    "print(f'Database already has {coll.estimated_document_count()} molecules')"
   ]
  },
  {
   "cell_type": "markdown",
   "id": "191b61ab-9e78-41ad-a454-0e5eadb27148",
   "metadata": {},
   "source": [
    "## Make functions to iterate from PubChem Data Files\n",
    "PubChem supplies a mapping of their \"Compound ID\" to a SMILES string and synonyms as separate files. \n",
    "\n",
    "The Data Files are hosted on an [FTP server](https://ftp.ncbi.nlm.nih.gov/pubchem/Compound/Extras/) We can access them via HTTP requests."
   ]
  },
  {
   "cell_type": "code",
   "execution_count": 6,
   "id": "2c5c400e-2791-4de3-a61a-58aec4fc1193",
   "metadata": {},
   "outputs": [],
   "source": [
    "def get_smiles_strings() -> (int, str):\n",
    "    \"\"\"Iterate over all of the SMILES strings in PubChem\n",
    "    \n",
    "    Yields:\n",
    "        - Its compound ID in PubChem\n",
    "        - SMILES string of a molecule\n",
    "    \"\"\"\n",
    "    with TemporaryDirectory(prefix='smiles') as tmp:\n",
    "        file_path = Path(tmp) / 'smiles.gz'\n",
    "        with requests.get('https://ftp.ncbi.nlm.nih.gov/pubchem/Compound/Extras/CID-SMILES.gz', stream=True) as req, file_path.open('wb') as fo:\n",
    "            copyfileobj(req.raw, fo)\n",
    "    \n",
    "        with gzip.open(file_path, 'rt') as fp:\n",
    "            for line in fp:\n",
    "                id_str, smiles = line[:-1].split(\"\\t\")\n",
    "                yield int(id_str), smiles\n",
    "smiles_iter = peekable(get_smiles_strings())\n",
    "assert smiles_iter.peek() == (1, 'CC(=O)OC(CC(=O)[O-])C[N+](C)(C)C')"
   ]
  },
  {
   "cell_type": "code",
   "execution_count": 7,
   "id": "bc0f3e51-11b7-47ea-88b9-95cafa449969",
   "metadata": {},
   "outputs": [],
   "source": [
    "def get_synonyms() -> (str, int):\n",
    "    \"\"\"Iterate over all of the synonyms in PubChem\n",
    "    \n",
    "    Yields:\n",
    "        - SMILES string of a molecule\n",
    "        - Its compound ID in PubChem\n",
    "    \"\"\"\n",
    "    # Store the names of the molecules\n",
    "    curr_id = None\n",
    "    names = []\n",
    "    \n",
    "    with TemporaryDirectory(prefix='names') as tmp:\n",
    "        file_path = Path(tmp) / 'names.gz'\n",
    "        with requests.get('https://ftp.ncbi.nlm.nih.gov/pubchem/Compound/Extras/CID-Synonym-filtered.gz', stream=True) as req, file_path.open('wb') as fo:\n",
    "            copyfileobj(req.raw, fo)\n",
    "    \n",
    "        for line in gzip.open(file_path, 'rt'):\n",
    "            # Read in the CID and name\n",
    "            id_str, name = line[:-1].split(\"\\t\")\n",
    "            my_id = int(id_str)\n",
    "            \n",
    "            # If the CID has changed, we can return the previous CID's names\n",
    "            if curr_id != my_id:\n",
    "                # If not the first, return the names\n",
    "                if curr_id is not None:\n",
    "                    yield curr_id, names\n",
    "                    \n",
    "                # Prepare to store new names\n",
    "                curr_id = my_id\n",
    "                names = []\n",
    "            \n",
    "            # Append and continue\n",
    "            names.append(name)\n",
    "                \n",
    "    return curr_id, names\n",
    "name_iter = peekable(get_synonyms())\n",
    "cid, names = name_iter.peek()\n",
    "assert cid == 1\n",
    "assert 'acetylcarnitine' in names"
   ]
  },
  {
   "cell_type": "markdown",
   "id": "d9ab319e-ca7f-4288-9ad1-7e6c2af546e8",
   "metadata": {},
   "source": [
    "## Download and Save Everything\n",
    "We have two iterators, so the idea is going to be to store everything in "
   ]
  },
  {
   "cell_type": "code",
   "execution_count": 8,
   "id": "cf29e7e8-8039-4cec-bec4-e7b9bf9040fd",
   "metadata": {},
   "outputs": [],
   "source": [
    "def make_record(x: (int, str)) -> Optional[MoleculeRecord]:\n",
    "    \"\"\"Make a molecule record\n",
    "    \n",
    "    This function is designed to run in parallel, \n",
    "    so that we can parse faster\n",
    "    \n",
    "    Args:\n",
    "        x: CID and SMILES string of a molecule\n",
    "    Returns: \n",
    "        Parsed record\n",
    "    \"\"\"\n",
    "    \n",
    "    # Make a molecule record\n",
    "    cid, smiles = x\n",
    "    try:\n",
    "        record = MoleculeRecord.from_identifier(smiles=smiles)\n",
    "    except (ValueError, RuntimeError):\n",
    "        return None\n",
    "    record.identifier.pubchem_id = cid\n",
    "    \n",
    "    return record"
   ]
  },
  {
   "cell_type": "code",
   "execution_count": null,
   "id": "73e47ef1-e07c-46e4-9660-b5ade56f3c65",
   "metadata": {},
   "outputs": [
    {
     "name": "stderr",
     "output_type": "stream",
     "text": [
      "36768001it [2:38:40, 5643.34it/s] "
     ]
    }
   ],
   "source": [
    "failures = 0\n",
    "total = 0\n",
    "to_save = {}\n",
    "with Pool(6) as p:\n",
    "    for record in tqdm(p.imap(make_record, smiles_iter, chunksize=1000)):\n",
    "        # Get the record ID if it parsed\n",
    "        total += 1\n",
    "        if record is None:\n",
    "            failures += 1\n",
    "            continue\n",
    "\n",
    "        cid = record.identifier.pubchem_id\n",
    "\n",
    "        # Loop until the synonyms list is farther back than our present position\n",
    "        while name_iter.peek()[0] < cid:\n",
    "            next(name_iter)\n",
    "        nid, names = name_iter.peek()\n",
    "        if name_iter.peek()[0] == cid:\n",
    "            record.names = names\n",
    "\n",
    "        # Save it\n",
    "        to_save[record.key] = record\n",
    "        if len(to_save) > write_chunk_size:\n",
    "            # Determine which records are already present\n",
    "            existing_keys = coll.find({'_id': {'$in': list(to_save.keys())}}, return_key=True)\n",
    "            for key in existing_keys:\n",
    "                to_save.pop(key['_id'])\n",
    "\n",
    "            # If there are any to add, insert them\n",
    "            if len(to_save) > 0:\n",
    "                coll.insert_many([x.to_mongo() for x in to_save.values()])\n",
    "            to_save.clear()\n",
    "print(f'Stored {total-failures} of {total}')"
   ]
  },
  {
   "cell_type": "code",
   "execution_count": null,
   "id": "2c326ae9-92ed-4935-ab8d-9c3bcb1b6ae6",
   "metadata": {},
   "outputs": [],
   "source": []
  }
 ],
 "metadata": {
  "kernelspec": {
   "display_name": "cfree",
   "language": "python",
   "name": "cfree"
  },
  "language_info": {
   "codemirror_mode": {
    "name": "ipython",
    "version": 3
   },
   "file_extension": ".py",
   "mimetype": "text/x-python",
   "name": "python",
   "nbconvert_exporter": "python",
   "pygments_lexer": "ipython3",
   "version": "3.9.15"
  }
 },
 "nbformat": 4,
 "nbformat_minor": 5
}
