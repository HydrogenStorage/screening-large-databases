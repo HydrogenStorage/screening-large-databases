{
 "cells": [
  {
   "cell_type": "markdown",
   "id": "bee1bf88-6963-4502-ba8e-69ffffc34b60",
   "metadata": {},
   "source": [
    "# Collect Matches into Flat Files\n",
    "This notebook collects all of the matches for a certain subset of molecules then writes them to a flat file."
   ]
  },
  {
   "cell_type": "code",
   "execution_count": 1,
   "id": "b2a70a68-d709-478a-a39f-886433b9fc35",
   "metadata": {},
   "outputs": [],
   "source": [
    "from pymongo import MongoClient\n",
    "from csv import DictWriter\n",
    "from pathlib import Path\n",
    "from tqdm import tqdm"
   ]
  },
  {
   "cell_type": "code",
   "execution_count": 2,
   "id": "8f985eb6-b6c3-4da8-b055-7d1257b8de02",
   "metadata": {},
   "outputs": [],
   "source": [
    "subset = 'random-valid'\n",
    "output_dir = Path('mentions')"
   ]
  },
  {
   "cell_type": "markdown",
   "id": "d476ae87-620e-4240-aa04-cadc70d4013f",
   "metadata": {},
   "source": [
    "Derived"
   ]
  },
  {
   "cell_type": "code",
   "execution_count": 3,
   "id": "1a5240b6-d9f4-45c2-b226-dfdc69561e16",
   "metadata": {},
   "outputs": [],
   "source": [
    "output_dir.mkdir(exist_ok=True)\n",
    "output_file = output_dir / f'{subset}-mentions.csv'"
   ]
  },
  {
   "cell_type": "markdown",
   "id": "b275dd78-f1a5-4386-9650-3c74db4baac1",
   "metadata": {},
   "source": [
    "## Connect to the Database\n",
    "We need access to both the molecule record and mention databases"
   ]
  },
  {
   "cell_type": "code",
   "execution_count": 4,
   "id": "c096006a-2875-41ef-bf84-667a5a76e2e9",
   "metadata": {},
   "outputs": [],
   "source": [
    "db = MongoClient(port=27856)['cfree']"
   ]
  },
  {
   "cell_type": "code",
   "execution_count": 5,
   "id": "e87a85f9-15f7-47e7-82ae-8429784bc2a8",
   "metadata": {},
   "outputs": [
    {
     "name": "stdout",
     "output_type": "stream",
     "text": [
      "Our database has 111995381 molecules\n"
     ]
    }
   ],
   "source": [
    "molecules = db['molecule_record']\n",
    "print(f'Our database has {molecules.estimated_document_count()} molecules')"
   ]
  },
  {
   "cell_type": "markdown",
   "id": "a02bc132-c1f8-41f3-a4f1-5bc501e83856",
   "metadata": {},
   "source": [
    "We also need the mentions"
   ]
  },
  {
   "cell_type": "code",
   "execution_count": 6,
   "id": "5010ba41-26ca-4981-80f3-31bf3552a06e",
   "metadata": {},
   "outputs": [
    {
     "name": "stdout",
     "output_type": "stream",
     "text": [
      "Our database has 22645382 mentions\n"
     ]
    }
   ],
   "source": [
    "mentions = db['mention']\n",
    "print(f'Our database has {mentions.estimated_document_count()} mentions')"
   ]
  },
  {
   "cell_type": "markdown",
   "id": "d548bb4d-f124-45e9-af47-59cf20a65e70",
   "metadata": {},
   "source": [
    "## Get the IDs of the Molecules that Match\n",
    "We are going to query all of the IDs to start with"
   ]
  },
  {
   "cell_type": "code",
   "execution_count": 7,
   "id": "74b852d8-7e31-45ad-9529-587fe7a4636a",
   "metadata": {},
   "outputs": [
    {
     "name": "stdout",
     "output_type": "stream",
     "text": [
      "Total of 107367 molecules in our subset\n",
      "CPU times: user 317 ms, sys: 88.1 ms, total: 406 ms\n",
      "Wall time: 12min 13s\n"
     ]
    }
   ],
   "source": [
    "%%time\n",
    "subset_keys = [x['_id'] for x in molecules.find({'subsets': subset}, projection=['_id'])]\n",
    "print(f'Total of {len(subset_keys)} molecules in our subset')"
   ]
  },
  {
   "cell_type": "markdown",
   "id": "b48761f3-adf6-44b2-b495-69da1a84ffad",
   "metadata": {},
   "source": [
    "## Write Mentions to Disk\n",
    "Get all of the mentions and write them to disk"
   ]
  },
  {
   "cell_type": "code",
   "execution_count": 8,
   "id": "85220469-08c0-4708-b000-196ec17317f8",
   "metadata": {},
   "outputs": [
    {
     "name": "stderr",
     "output_type": "stream",
     "text": [
      "36253it [01:17, 470.09it/s] \n"
     ]
    }
   ],
   "source": [
    "total_matches = 0\n",
    "matched_keys = set()\n",
    "with output_file.open('w') as fp:\n",
    "    # Start writing\n",
    "    writer = DictWriter(fp, ['filename', 'line', 'name', 'molecule', 'text'])\n",
    "    writer.writeheader()\n",
    "    \n",
    "    # Gather all mentions\n",
    "    for mention in tqdm(mentions.find({'matches.key': {'$in': subset_keys}})):\n",
    "        to_write = []\n",
    "        for match in mention['matches']: \n",
    "            if match['key'] in subset_keys:\n",
    "                matched_keys.add(match['key'])\n",
    "                total_matches += 1\n",
    "                to_write.append({\n",
    "                    'filename': mention['filename'],\n",
    "                    'line': mention['line'],\n",
    "                    'text': mention['text'][:-1],\n",
    "                    'molecule': match['key'],\n",
    "                    'name': match['name']\n",
    "                })\n",
    "        writer.writerows(to_write)"
   ]
  },
  {
   "cell_type": "code",
   "execution_count": 9,
   "id": "9f494bb5-7565-4e26-92b6-e42effb43d2c",
   "metadata": {},
   "outputs": [
    {
     "name": "stdout",
     "output_type": "stream",
     "text": [
      "Printed a total of 37650 matches on 111 molecules\n"
     ]
    }
   ],
   "source": [
    "print(f'Printed a total of {total_matches} matches on {len(matched_keys)} molecules')"
   ]
  },
  {
   "cell_type": "code",
   "execution_count": null,
   "id": "44e70250-018b-450b-a0b1-01571c673d67",
   "metadata": {},
   "outputs": [],
   "source": []
  }
 ],
 "metadata": {
  "kernelspec": {
   "display_name": "cfree",
   "language": "python",
   "name": "cfree"
  },
  "language_info": {
   "codemirror_mode": {
    "name": "ipython",
    "version": 3
   },
   "file_extension": ".py",
   "mimetype": "text/x-python",
   "name": "python",
   "nbconvert_exporter": "python",
   "pygments_lexer": "ipython3",
   "version": "3.9.15"
  }
 },
 "nbformat": 4,
 "nbformat_minor": 5
}
