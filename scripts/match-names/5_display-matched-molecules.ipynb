{
 "cells": [
  {
   "cell_type": "markdown",
   "id": "38b76a10-94c9-41d1-96ba-6c18a8da6edf",
   "metadata": {},
   "source": [
    "# Display Matched Molecules\n",
    "See the molecules which are closest in context in our known set from both the \"relevant\" and \"random\" populations"
   ]
  },
  {
   "cell_type": "code",
   "execution_count": 1,
   "id": "61426e54-023c-49d3-9647-7604db6a887b",
   "metadata": {},
   "outputs": [],
   "source": [
    "%matplotlib inline\n",
    "from matplotlib import pyplot as plt\n",
    "from pymongo import MongoClient\n",
    "from rdkit.Chem import Draw\n",
    "from rdkit import Chem\n",
    "import pandas as pd"
   ]
  },
  {
   "cell_type": "markdown",
   "id": "903f3779-2f78-4293-bf26-380a5df9aa4f",
   "metadata": {},
   "source": [
    "Configuration"
   ]
  },
  {
   "cell_type": "code",
   "execution_count": 2,
   "id": "410e63bc-a4c8-41d3-a8bf-d3a3b39bdee6",
   "metadata": {
    "tags": []
   },
   "outputs": [],
   "source": [
    "to_run_per_target = 4  # How many baseline structures to test\n",
    "match_type = 'abs-cosine'"
   ]
  },
  {
   "cell_type": "markdown",
   "id": "48e100ce-2415-4f4b-884b-27d348c68b0b",
   "metadata": {},
   "source": [
    "## Load the Matches\n",
    "They are stored in CSV files produced by Zhi Hong. Get the top molecules out of Each"
   ]
  },
  {
   "cell_type": "code",
   "execution_count": 3,
   "id": "d5e4bda2-801f-4d14-9182-bc646bf2e800",
   "metadata": {},
   "outputs": [
    {
     "name": "stdout",
     "output_type": "stream",
     "text": [
      "Loaded 28 molecules\n"
     ]
    }
   ],
   "source": [
    "relevant = pd.read_csv(f'matched/25apr23-partial-PRD/Known_Pareto-Relevant_ENA-molecules-{match_type}-all.csv')\n",
    "top_relevant = relevant.sort_values('Cosine Similarity').groupby('Known Pareto Molecule').tail(to_run_per_target)\n",
    "print(f'Loaded {len(top_relevant)} molecules')"
   ]
  },
  {
   "cell_type": "code",
   "execution_count": 4,
   "id": "e9866e85-8725-444a-a4d7-9b79ea7d2d0f",
   "metadata": {},
   "outputs": [
    {
     "name": "stdout",
     "output_type": "stream",
     "text": [
      "Loaded 28 molecules\n"
     ]
    }
   ],
   "source": [
    "random = pd.read_csv(f'matched/25apr23-partial-PRD/Known_Pareto-Random_Valid-molecules-{match_type}-all.csv')\n",
    "top_random = random.sort_values('Cosine Similarity').groupby('Known Pareto Molecule').tail(to_run_per_target)\n",
    "print(f'Loaded {len(top_random)} molecules')"
   ]
  },
  {
   "cell_type": "markdown",
   "id": "8e353cb7-7c0e-402c-81ed-0e76dd6e41cb",
   "metadata": {},
   "source": [
    "## Get their Smiles Strings\n",
    "Look that up from the database"
   ]
  },
  {
   "cell_type": "code",
   "execution_count": 5,
   "id": "6a4f1859-6c8a-4ad1-8128-36f171de44fc",
   "metadata": {},
   "outputs": [],
   "source": [
    "client = MongoClient(port=27894)\n",
    "coll = client['cfree']['molecule_record']"
   ]
  },
  {
   "cell_type": "markdown",
   "id": "dd8f7c7d-28c3-4a3d-8706-8d7eae6e1cbb",
   "metadata": {},
   "source": [
    "Get them via projection"
   ]
  },
  {
   "cell_type": "code",
   "execution_count": 6,
   "id": "255b0061-c7ba-4afe-b75c-d2019bcc508e",
   "metadata": {},
   "outputs": [],
   "source": [
    "def find_smiles(key):\n",
    "    \"\"\"Get the record matching a certain InChI Key and return the smiles\"\"\"\n",
    "    return coll.find_one({'_id': key})['identifier']['smiles']"
   ]
  },
  {
   "cell_type": "code",
   "execution_count": 7,
   "id": "7a1a9198-f697-4d0b-9154-373d80f4027b",
   "metadata": {},
   "outputs": [
    {
     "data": {
      "text/html": [
       "<div>\n",
       "<style scoped>\n",
       "    .dataframe tbody tr th:only-of-type {\n",
       "        vertical-align: middle;\n",
       "    }\n",
       "\n",
       "    .dataframe tbody tr th {\n",
       "        vertical-align: top;\n",
       "    }\n",
       "\n",
       "    .dataframe thead th {\n",
       "        text-align: right;\n",
       "    }\n",
       "</style>\n",
       "<table border=\"1\" class=\"dataframe\">\n",
       "  <thead>\n",
       "    <tr style=\"text-align: right;\">\n",
       "      <th></th>\n",
       "      <th>Known Pareto Molecule</th>\n",
       "      <th>Cosine Similarity</th>\n",
       "      <th>Random Valid Molecule</th>\n",
       "    </tr>\n",
       "  </thead>\n",
       "  <tbody>\n",
       "    <tr>\n",
       "      <th>233</th>\n",
       "      <td>UFWIBTONFRDIAS-UHFFFAOYSA-N</td>\n",
       "      <td>0.526907</td>\n",
       "      <td>KYNSBQPICQTCGU-UHFFFAOYSA-N</td>\n",
       "    </tr>\n",
       "  </tbody>\n",
       "</table>\n",
       "</div>"
      ],
      "text/plain": [
       "           Known Pareto Molecule  Cosine Similarity  \\\n",
       "233  UFWIBTONFRDIAS-UHFFFAOYSA-N           0.526907   \n",
       "\n",
       "           Random Valid Molecule  \n",
       "233  KYNSBQPICQTCGU-UHFFFAOYSA-N  "
      ]
     },
     "execution_count": 7,
     "metadata": {},
     "output_type": "execute_result"
    }
   ],
   "source": [
    "top_random.head(1)"
   ]
  },
  {
   "cell_type": "code",
   "execution_count": 8,
   "id": "55caa516-c0b1-4633-a61c-9542b09c0a8a",
   "metadata": {},
   "outputs": [],
   "source": [
    "for data in [top_relevant, top_random]:\n",
    "    for col in data.columns[[0, 2]]:\n",
    "        data[f'{col}-SMILES'] = data[col].apply(find_smiles)"
   ]
  },
  {
   "cell_type": "markdown",
   "id": "e31f70f5-3f68-4f12-852d-0337e4c0aba6",
   "metadata": {},
   "source": [
    "## Plot the Properties\n",
    "Make a wt%H2 vs storage energy plot"
   ]
  },
  {
   "cell_type": "markdown",
   "id": "2494ba7f-6a8c-4b82-ba1b-29a97fbf2ff1",
   "metadata": {},
   "source": [
    "Pull the values from the database"
   ]
  },
  {
   "cell_type": "code",
   "execution_count": 9,
   "id": "efd33475-c8a5-401e-97e0-e85dcdeec791",
   "metadata": {},
   "outputs": [],
   "source": [
    "known_molecules = pd.read_csv('../screen-search-space/to-compare.smi', names=['smiles'])\n",
    "known_molecules['key'] = known_molecules['smiles'].apply(Chem.MolFromSmiles).apply(Chem.MolToInchiKey)"
   ]
  },
  {
   "cell_type": "code",
   "execution_count": 10,
   "id": "245207c7-9477-4f8c-8849-17501e71890c",
   "metadata": {},
   "outputs": [],
   "source": [
    "def _extract(record: dict) -> dict:\n",
    "    output = {'id': record['_id']}\n",
    "    output.update(record['identifier'])\n",
    "    output.update(record['property'])\n",
    "    return output"
   ]
  },
  {
   "cell_type": "code",
   "execution_count": 11,
   "id": "8de8f553-dfc1-4e2f-830e-e166c64f9dc9",
   "metadata": {},
   "outputs": [],
   "source": [
    "known_props = pd.DataFrame(map(_extract, coll.find({'_id': {'$in': known_molecules['key'].tolist()}}, projection=['property', 'identifier'])))"
   ]
  },
  {
   "cell_type": "code",
   "execution_count": 12,
   "id": "c914fab0-9604-4674-9e30-b4d00097ca60",
   "metadata": {},
   "outputs": [
    {
     "name": "stdout",
     "output_type": "stream",
     "text": [
      "Pulled 19 SuperBERT molecules\n"
     ]
    }
   ],
   "source": [
    "random_props = pd.DataFrame(map(_extract, coll.find({'_id': {'$in': top_random.iloc[:, 2].tolist()}}, projection=['property', 'identifier'])))\n",
    "print(f'Pulled {len(random_props)} SuperBERT molecules')"
   ]
  },
  {
   "cell_type": "code",
   "execution_count": 13,
   "id": "7d354c4a-2363-47f0-b6ac-b53d256e7397",
   "metadata": {},
   "outputs": [
    {
     "name": "stdout",
     "output_type": "stream",
     "text": [
      "Pulled 27 SuperBERT molecules\n"
     ]
    }
   ],
   "source": [
    "relevant_props = pd.DataFrame(map(_extract, coll.find({'_id': {'$in': top_relevant.iloc[:, 2].tolist()}}, projection=['property', 'identifier'])))\n",
    "print(f'Pulled {len(relevant_props)} SuperBERT molecules')"
   ]
  },
  {
   "cell_type": "code",
   "execution_count": 14,
   "id": "568743ed-8f52-4d15-bd10-c350a5ec93c6",
   "metadata": {},
   "outputs": [
    {
     "name": "stdout",
     "output_type": "stream",
     "text": [
      "Pulled 73 baseline molecules\n",
      "CPU times: user 106 ms, sys: 54.4 ms, total: 161 ms\n",
      "Wall time: 6min 21s\n"
     ]
    }
   ],
   "source": [
    "%%time\n",
    "baseline_relevant_props = pd.DataFrame(filter(\n",
    "    lambda x: x['id'] not in set(relevant_props['id']),\n",
    "    map(_extract, coll.find({'subsets': 'relevant-ENA', 'property.storage_eng': {'$exists': True}}, projection=['property', 'identifier']))\n",
    "))\n",
    "print(f'Pulled {len(baseline_relevant_props)} baseline molecules')"
   ]
  },
  {
   "cell_type": "code",
   "execution_count": 15,
   "id": "f95693d7-a452-40f7-ad6e-fea88fdf499d",
   "metadata": {},
   "outputs": [
    {
     "name": "stdout",
     "output_type": "stream",
     "text": [
      "Pulled 68 baseline molecules\n",
      "CPU times: user 67.2 ms, sys: 31.3 ms, total: 98.5 ms\n",
      "Wall time: 3min 53s\n"
     ]
    }
   ],
   "source": [
    "%%time\n",
    "baseline_random_props = pd.DataFrame(filter(\n",
    "    lambda x: x['id'] not in set(random_props['id']),\n",
    "    map(_extract, coll.find({'subsets': 'random-valid', 'property.storage_eng': {'$exists': True}}, projection=['property', 'identifier']))\n",
    "))\n",
    "print(f'Pulled {len(baseline_random_props)} baseline molecules')"
   ]
  },
  {
   "cell_type": "code",
   "execution_count": 20,
   "id": "62990160-f256-4a10-825d-8a086db41bab",
   "metadata": {},
   "outputs": [
    {
     "data": {
      "image/png": "[encoded data removed]",
      "text/plain": [
       "<Figure size 550x200 with 2 Axes>"
      ]
     },
     "metadata": {},
     "output_type": "display_data"
    }
   ],
   "source": [
    "fig, axs = plt.subplots(1, 2, figsize=(5.5, 2.), sharey=True)\n",
    "\n",
    "# Make the two uniform\n",
    "for ax in axs:\n",
    "    ax.scatter(known_props['wt%H2'], known_props['storage_eng'], label='Known', marker='s', color='gray', s=15, alpha=0.5, edgecolor='none')    \n",
    "    ax.set_xlabel('Capacity (wt%H2)')\n",
    "    ax.set_xlim([1, 9])\n",
    "    ax.set_ylim([0, 250])\n",
    "axs[0].set_ylabel('Energy Penalty\\n(kJ/mol/H2)')\n",
    "\n",
    "\n",
    "# Plot the random molecules\n",
    "ax = axs[1]\n",
    "ax.set_title('Any Molecule', fontsize=8, loc='left')\n",
    "ax.scatter(baseline_random_props['wt%H2'], baseline_random_props['storage_eng'], label='Random', marker='o', color='black')\n",
    "ax.scatter(random_props['wt%H2'], random_props['storage_eng'], label='SuperBERT+Random', marker='o', color='steelblue', alpha=0.9, edgecolor='none')\n",
    "\n",
    "# Plot the SuperBERT-selected molecules\n",
    "ax = axs[0]\n",
    "ax.set_title('Structurally-Similiar', fontsize=8, loc='left')\n",
    "ax.scatter(baseline_relevant_props['wt%H2'], baseline_relevant_props['storage_eng'], label='Random', marker='p', color='black')\n",
    "ax.scatter(relevant_props['wt%H2'], relevant_props['storage_eng'], label='Context Matching', marker='p', color='crimson', alpha=0.5)\n",
    "\n",
    "ax.legend(fontsize=6)\n",
    "fig.tight_layout()\n",
    "fig.savefig('figures/selection-comparison.png', dpi=320)"
   ]
  },
  {
   "cell_type": "code",
   "execution_count": null,
   "id": "71fd1bb4-3f07-4dca-b9dd-248ad5776352",
   "metadata": {},
   "outputs": [],
   "source": []
  }
 ],
 "metadata": {
  "kernelspec": {
   "display_name": "cfree",
   "language": "python",
   "name": "cfree"
  },
  "language_info": {
   "codemirror_mode": {
    "name": "ipython",
    "version": 3
   },
   "file_extension": ".py",
   "mimetype": "text/x-python",
   "name": "python",
   "nbconvert_exporter": "python",
   "pygments_lexer": "ipython3",
   "version": "3.9.16"
  }
 },
 "nbformat": 4,
 "nbformat_minor": 5
}
