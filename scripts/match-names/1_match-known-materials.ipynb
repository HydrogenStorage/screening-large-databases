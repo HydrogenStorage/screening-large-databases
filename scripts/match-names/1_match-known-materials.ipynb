{
 "cells": [
  {
   "cell_type": "markdown",
   "id": "510e36fb-64e0-40c9-ad14-14c2eeb10801",
   "metadata": {},
   "source": [
    "# Match Known Materials\n",
    "Find which materials in the database are known to be similar to"
   ]
  },
  {
   "cell_type": "code",
   "execution_count": 1,
   "id": "23b1b612-7e74-44da-a4da-39d734959593",
   "metadata": {},
   "outputs": [],
   "source": [
    "from more_itertools import batched\n",
    "from mongoengine import connect\n",
    "from rdkit import Chem\n",
    "from tqdm import tqdm\n",
    "import pandas as pd\n",
    "import numpy as np"
   ]
  },
  {
   "cell_type": "code",
   "execution_count": 2,
   "id": "ccddcbb5-b6d2-42ac-aa61-1e0102190674",
   "metadata": {},
   "outputs": [],
   "source": [
    "client = connect('cfree', port=27856)\n",
    "db = client['cfree']"
   ]
  },
  {
   "cell_type": "markdown",
   "id": "13d19888-c74f-480a-a10d-c6ffa9ee0cf7",
   "metadata": {},
   "source": [
    "## Load in the \"Known\" materials\n",
    "These are from a list provided by Hassan. We want to load them then get the "
   ]
  },
  {
   "cell_type": "code",
   "execution_count": 3,
   "id": "68e5174c-75c1-4a71-8b6f-e32a17abcd41",
   "metadata": {},
   "outputs": [
    {
     "name": "stdout",
     "output_type": "stream",
     "text": [
      "Loaded 149 molecules\n"
     ]
    }
   ],
   "source": [
    "molecules = pd.read_csv('../screen-search-space/to-compare.smi', names=['smiles'])\n",
    "print(f'Loaded {len(molecules)} molecules')"
   ]
  },
  {
   "cell_type": "markdown",
   "id": "11cae49e-0836-4f1d-81d2-cbf308169745",
   "metadata": {},
   "source": [
    "Compute the InChI Key"
   ]
  },
  {
   "cell_type": "code",
   "execution_count": 4,
   "id": "6d63b29c-c21a-4426-be7d-06988f6dc2fd",
   "metadata": {},
   "outputs": [
    {
     "name": "stdout",
     "output_type": "stream",
     "text": [
      "CPU times: user 50.8 ms, sys: 6.49 ms, total: 57.3 ms\n",
      "Wall time: 55.2 ms\n"
     ]
    }
   ],
   "source": [
    "%%time\n",
    "molecules['key'] = molecules['smiles'].apply(Chem.MolFromSmiles).apply(Chem.MolToInchiKey)"
   ]
  },
  {
   "cell_type": "markdown",
   "id": "f66c2a74-3a4f-4af1-9774-7a914e39ac94",
   "metadata": {},
   "source": [
    "## Mark them in the Database\n",
    "Append the 'known' subset to all entries that match the key"
   ]
  },
  {
   "cell_type": "code",
   "execution_count": 5,
   "id": "0592fc49-43c6-4f0d-93dd-6b21fd44305d",
   "metadata": {},
   "outputs": [
    {
     "name": "stdout",
     "output_type": "stream",
     "text": [
      "Database contains around 111995381 molecules\n"
     ]
    }
   ],
   "source": [
    "coll = db['molecule_record']\n",
    "mol_count = coll.estimated_document_count()\n",
    "print(f'Database contains around {mol_count} molecules')"
   ]
  },
  {
   "cell_type": "markdown",
   "id": "a3f57120-b2fb-4d74-b28f-71bdbb715313",
   "metadata": {},
   "source": [
    "Perform the update"
   ]
  },
  {
   "cell_type": "code",
   "execution_count": 6,
   "id": "bd24f91e-d914-476d-8ac8-69881de1e15c",
   "metadata": {},
   "outputs": [
    {
     "name": "stdout",
     "output_type": "stream",
     "text": [
      "Matched 124 molecules. Updated 0 records.\n",
      "CPU times: user 771 µs, sys: 1.48 ms, total: 2.25 ms\n",
      "Wall time: 4.79 ms\n"
     ]
    }
   ],
   "source": [
    "%%time\n",
    "result = coll.update_many({'_id': {'$in': molecules.key.tolist()}}, {'$addToSet': {'subsets': 'known'}})\n",
    "print(f'Matched {result.matched_count} molecules. Updated {result.modified_count} records.')"
   ]
  },
  {
   "cell_type": "code",
   "execution_count": 7,
   "id": "164f39ff-3428-4899-ae82-dc8b5cf38313",
   "metadata": {},
   "outputs": [
    {
     "name": "stdout",
     "output_type": "stream",
     "text": [
      "We have 124 molecules in that category now.\n",
      "CPU times: user 965 µs, sys: 0 ns, total: 965 µs\n",
      "Wall time: 1.01 ms\n"
     ]
    }
   ],
   "source": [
    "%%time\n",
    "count = coll.count_documents({'subsets': 'known'})\n",
    "print(f'We have {count} molecules in that category now.')"
   ]
  },
  {
   "cell_type": "markdown",
   "id": "d600ce87-81d4-42eb-863d-65bbd4daf8b6",
   "metadata": {},
   "source": [
    "## Repeat with the \"Relevant\" Molecules\n",
    "Get the molecules with we have found to be relevant in another search"
   ]
  },
  {
   "cell_type": "code",
   "execution_count": 8,
   "id": "01977fd4-30b3-45e4-adca-dc294cafabfd",
   "metadata": {},
   "outputs": [],
   "source": [
    "relevant = pd.read_csv('../screen-search-space/runs/ENA-top1000000-515af2/best_molecules.csv.gz')  # Latest version of our ENA molecule set"
   ]
  },
  {
   "cell_type": "code",
   "execution_count": 9,
   "id": "f2242bc6-a145-4e1d-a1e9-1c09abb19003",
   "metadata": {},
   "outputs": [],
   "source": [
    "relevant.drop(columns='similarities', inplace=True)"
   ]
  },
  {
   "cell_type": "code",
   "execution_count": 10,
   "id": "6a79246a-8e7f-45f1-8d46-e67bee66262e",
   "metadata": {},
   "outputs": [
    {
     "name": "stderr",
     "output_type": "stream",
     "text": [
      "100%|██████████| 201/201 [36:13<00:00, 10.81s/it] "
     ]
    },
    {
     "name": "stdout",
     "output_type": "stream",
     "text": [
      "Matched 53701 molecules. Updated 0 records.\n"
     ]
    },
    {
     "name": "stderr",
     "output_type": "stream",
     "text": [
      "\n"
     ]
    }
   ],
   "source": [
    "matched = 0\n",
    "updated = 0\n",
    "for chunk in tqdm(np.array_split(relevant, len(relevant) // 5000 + 1)):\n",
    "    keys = chunk['smiles'].apply(Chem.MolFromSmiles).apply(Chem.MolToInchiKey)\n",
    "    result = coll.update_many({'_id': {'$in': keys.tolist()}}, {'$addToSet': {'subsets': 'relevant-ENA'}})\n",
    "    updated += result.modified_count\n",
    "    matched += result.matched_count\n",
    "print(f'Matched {matched} molecules. Updated {updated} records.')"
   ]
  },
  {
   "cell_type": "code",
   "execution_count": 11,
   "id": "4ea2c131-b062-41bd-a4a4-b1b8a197ba57",
   "metadata": {},
   "outputs": [
    {
     "name": "stdout",
     "output_type": "stream",
     "text": [
      "We have 53693 molecules in that category now.\n",
      "CPU times: user 1.28 ms, sys: 20 ms, total: 21.3 ms\n",
      "Wall time: 66.5 ms\n"
     ]
    }
   ],
   "source": [
    "%%time\n",
    "count_relevant = coll.count_documents({'subsets': 'relevant-ENA'})\n",
    "print(f'We have {count_relevant} molecules in that category now.')"
   ]
  },
  {
   "cell_type": "markdown",
   "id": "41f10cfa-45d5-49be-989c-b3c22649bd23",
   "metadata": {},
   "source": [
    "## Get a Random Subset\n",
    "A random subset of molecules with at least one carbon-carbon double or aromatic bond."
   ]
  },
  {
   "cell_type": "markdown",
   "id": "79896bf8-21ff-4d59-bdda-d3e7f54194df",
   "metadata": {},
   "source": [
    "### Step 1: Find \"valid\" carbon-storage molecules\n",
    "We can just do a text match for `C=C` or `cc`"
   ]
  },
  {
   "cell_type": "code",
   "execution_count": 12,
   "id": "d412c19e-4e7c-4374-995b-03c71d1ceb44",
   "metadata": {},
   "outputs": [
    {
     "name": "stdout",
     "output_type": "stream",
     "text": [
      "Matched 97126505 molecules. Updated 0 records.\n",
      "CPU times: user 119 ms, sys: 15 ms, total: 134 ms\n",
      "Wall time: 6min 35s\n"
     ]
    }
   ],
   "source": [
    "%%time\n",
    "result = coll.update_many({'identifier.smiles': {'$regex': '(C=C|cc)'}}, {'$addToSet': {'subsets': 'valid'}})\n",
    "print(f'Matched {result.matched_count} molecules. Updated {result.modified_count} records.')"
   ]
  },
  {
   "cell_type": "markdown",
   "id": "500a882c-fe97-496e-a3fe-7ab3ea9ed6bc",
   "metadata": {},
   "source": [
    "## Step 2: Randomly select a few of them\n",
    "We are going to assign each record a random number, then pick the first valid ones that are not "
   ]
  },
  {
   "cell_type": "code",
   "execution_count": 13,
   "id": "da620bd0-4a5c-4a60-812f-4a0f204ebf3a",
   "metadata": {},
   "outputs": [
    {
     "name": "stdout",
     "output_type": "stream",
     "text": [
      "Matched 0 molecules. Updated 0 records.\n",
      "CPU times: user 28.2 ms, sys: 8.01 ms, total: 36.2 ms\n",
      "Wall time: 1min 35s\n"
     ]
    }
   ],
   "source": [
    "%%time\n",
    "result = coll.update_many({'subset': 'random-valid'}, {'$pull': {'subsets': ['random-valid']}})\n",
    "print(f'Matched {result.matched_count} molecules. Updated {result.modified_count} records.')"
   ]
  },
  {
   "cell_type": "code",
   "execution_count": 14,
   "id": "a49813cd-6077-476d-a539-b441c7635301",
   "metadata": {},
   "outputs": [
    {
     "name": "stdout",
     "output_type": "stream",
     "text": [
      "Pulled 53693 random \"valid\" molecules from the database\n",
      "CPU times: user 147 ms, sys: 19 ms, total: 166 ms\n",
      "Wall time: 3min 43s\n"
     ]
    }
   ],
   "source": [
    "%%time\n",
    "matched_keys = [x['_id'] for x in coll.aggregate([\n",
    "    {'$match': {'subsets': 'valid'}},\n",
    "    {'$sample': {'size': count_relevant}},\n",
    "    {'$project': {'_id': 1}}\n",
    "])]\n",
    "print(f'Pulled {len(matched_keys)} random \"valid\" molecules from the database')"
   ]
  },
  {
   "cell_type": "code",
   "execution_count": 15,
   "id": "c030feb1-36df-400f-a0ae-1968acc8e740",
   "metadata": {},
   "outputs": [
    {
     "name": "stdout",
     "output_type": "stream",
     "text": [
      "Matched 53693 molecules. Updated 53664 records.\n",
      "CPU times: user 48.6 ms, sys: 3.17 ms, total: 51.8 ms\n",
      "Wall time: 31.2 s\n"
     ]
    }
   ],
   "source": [
    "%%time\n",
    "result = coll.update_many({'_id': {'$in': matched_keys}}, {'$addToSet': {'subsets': 'random-valid'}})\n",
    "print(f'Matched {result.matched_count} molecules. Updated {result.modified_count} records.')"
   ]
  },
  {
   "cell_type": "code",
   "execution_count": null,
   "id": "9f676bf7-ca54-421d-9ec6-3b306db453f5",
   "metadata": {},
   "outputs": [],
   "source": []
  }
 ],
 "metadata": {
  "kernelspec": {
   "display_name": "cfree",
   "language": "python",
   "name": "cfree"
  },
  "language_info": {
   "codemirror_mode": {
    "name": "ipython",
    "version": 3
   },
   "file_extension": ".py",
   "mimetype": "text/x-python",
   "name": "python",
   "nbconvert_exporter": "python",
   "pygments_lexer": "ipython3",
   "version": "3.9.15"
  }
 },
 "nbformat": 4,
 "nbformat_minor": 5
}
