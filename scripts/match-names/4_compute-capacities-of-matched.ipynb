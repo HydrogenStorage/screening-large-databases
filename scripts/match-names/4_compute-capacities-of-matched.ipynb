{
 "cells": [
  {
   "cell_type": "markdown",
   "id": "38b76a10-94c9-41d1-96ba-6c18a8da6edf",
   "metadata": {},
   "source": [
    "# Compute the Storage Capacity of Matched Molecules"
   ]
  },
  {
   "cell_type": "code",
   "execution_count": 1,
   "id": "61426e54-023c-49d3-9647-7604db6a887b",
   "metadata": {
    "tags": []
   },
   "outputs": [],
   "source": [
    "from mongoengine import connect\n",
    "from ase.calculators.calculator import CalculationFailed\n",
    "from cfree.store import MoleculeRecord\n",
    "from cfree.descriptors import compute_wth2, count_h2_difference, saturate_molecule\n",
    "from cfree.compute import compute_storage_energy\n",
    "from rdkit import Chem\n",
    "from tqdm import tqdm\n",
    "import pandas as pd\n",
    "import numpy as np"
   ]
  },
  {
   "cell_type": "markdown",
   "id": "5b65ba0c-2b04-4a05-8cd5-ebd7f4d38dac",
   "metadata": {},
   "source": [
    "Configuration"
   ]
  },
  {
   "cell_type": "code",
   "execution_count": 2,
   "id": "d9dfc5de-372e-493c-98f7-6dad849ddd1c",
   "metadata": {
    "tags": []
   },
   "outputs": [],
   "source": [
    "to_run_per_target = 4  # How many baseline structures to test\n",
    "match_type = 'abs-cosine'"
   ]
  },
  {
   "cell_type": "markdown",
   "id": "d3afe4bf-c0d1-40ec-9aa3-5ad405393a42",
   "metadata": {},
   "source": [
    "Connect to the database"
   ]
  },
  {
   "cell_type": "code",
   "execution_count": 3,
   "id": "5f878ed1-aa7b-40ee-a6e8-03b9018ec6e5",
   "metadata": {
    "tags": []
   },
   "outputs": [],
   "source": [
    "client = connect(port=27894)\n",
    "coll = client['cfree']['molecule_record']"
   ]
  },
  {
   "cell_type": "markdown",
   "id": "0ccd6981-3d73-4b85-8ea7-2759f5d92406",
   "metadata": {},
   "source": [
    "## Load the Matches\n",
    "They are stored in CSV files produced by Zhi Hong. Get the top molecules out of Each"
   ]
  },
  {
   "cell_type": "code",
   "execution_count": 4,
   "id": "d623ac1e-2ba9-48ca-83bf-48d57f2a4479",
   "metadata": {},
   "outputs": [
    {
     "name": "stdout",
     "output_type": "stream",
     "text": [
      "Loaded 28 molecules\n"
     ]
    }
   ],
   "source": [
    "relevant = pd.read_csv(f'matched/25apr23-partial-PRD/Known_Pareto-Relevant_ENA-molecules-{match_type}-all.csv')\n",
    "top_relevant = relevant.sort_values('Cosine Similarity').groupby('Known Pareto Molecule').tail(to_run_per_target)\n",
    "print(f'Loaded {len(top_relevant)} molecules')"
   ]
  },
  {
   "cell_type": "code",
   "execution_count": 5,
   "id": "bbf78f55-c2c6-48ae-84ad-e64f08644c7b",
   "metadata": {},
   "outputs": [
    {
     "name": "stdout",
     "output_type": "stream",
     "text": [
      "Loaded 28 molecules\n"
     ]
    }
   ],
   "source": [
    "random = pd.read_csv(f'matched/25apr23-partial-PRD/Known_Pareto-Random_Valid-molecules-{match_type}-all.csv')\n",
    "top_random = random.sort_values('Cosine Similarity').groupby('Known Pareto Molecule').tail(to_run_per_target)\n",
    "print(f'Loaded {len(top_random)} molecules')"
   ]
  },
  {
   "cell_type": "markdown",
   "id": "33a5073a-621d-4bf4-8c5f-934109ac719e",
   "metadata": {},
   "source": [
    "## Get Some Baseline Structures\n",
    "Randomly select records from the database"
   ]
  },
  {
   "cell_type": "code",
   "execution_count": 6,
   "id": "44e25f8f-ae49-40bf-859f-f84c918ce177",
   "metadata": {
    "tags": []
   },
   "outputs": [
    {
     "name": "stdout",
     "output_type": "stream",
     "text": [
      "Pulled 28 random \"valid\" molecules from the database\n",
      "CPU times: user 674 ms, sys: 454 ms, total: 1.13 s\n",
      "Wall time: 6.61 s\n"
     ]
    }
   ],
   "source": [
    "%%time\n",
    "rng = np.random.RandomState(1)\n",
    "random_smiles = sorted([x['identifier']['smiles'] for x in coll.find({'subsets': 'random-valid'}, projection=['identifier.smiles'])])\n",
    "random_smiles = rng.choice(random_smiles, replace=False, size=(len(top_relevant),)).tolist()\n",
    "print(f'Pulled {len(random_smiles)} random \"valid\" molecules from the database')"
   ]
  },
  {
   "cell_type": "code",
   "execution_count": 7,
   "id": "5de6ded0-9322-46d6-9bea-718bd4c5eedc",
   "metadata": {
    "tags": []
   },
   "outputs": [
    {
     "name": "stdout",
     "output_type": "stream",
     "text": [
      "Pulled 28 random \"relevant\" molecules from the database\n",
      "CPU times: user 245 ms, sys: 39.4 ms, total: 284 ms\n",
      "Wall time: 3.18 s\n"
     ]
    }
   ],
   "source": [
    "%%time\n",
    "rng = np.random.RandomState(1)\n",
    "relevant_smiles = sorted([x['identifier']['smiles'] for x in coll.find({'subsets': 'relevant-ENA'}, projection=['identifier.smiles'])])\n",
    "relevant_smiles = rng.choice(relevant_smiles, replace=False, size=(len(top_relevant),)).tolist()\n",
    "print(f'Pulled {len(relevant_smiles)} random \"relevant\" molecules from the database')"
   ]
  },
  {
   "cell_type": "markdown",
   "id": "8e353cb7-7c0e-402c-81ed-0e76dd6e41cb",
   "metadata": {},
   "source": [
    "## Get their Smiles Strings\n",
    "Look that up from the database"
   ]
  },
  {
   "cell_type": "markdown",
   "id": "dd8f7c7d-28c3-4a3d-8706-8d7eae6e1cbb",
   "metadata": {},
   "source": [
    "Get them via projection"
   ]
  },
  {
   "cell_type": "code",
   "execution_count": 8,
   "id": "255b0061-c7ba-4afe-b75c-d2019bcc508e",
   "metadata": {},
   "outputs": [],
   "source": [
    "def find_smiles(key):\n",
    "    \"\"\"Get the record matching a certain InChI Key and return the smiles\"\"\"\n",
    "    return coll.find_one({'_id': key})['identifier']['smiles']"
   ]
  },
  {
   "cell_type": "code",
   "execution_count": 9,
   "id": "7a1a9198-f697-4d0b-9154-373d80f4027b",
   "metadata": {},
   "outputs": [
    {
     "data": {
      "text/html": [
       "<div>\n",
       "<style scoped>\n",
       "    .dataframe tbody tr th:only-of-type {\n",
       "        vertical-align: middle;\n",
       "    }\n",
       "\n",
       "    .dataframe tbody tr th {\n",
       "        vertical-align: top;\n",
       "    }\n",
       "\n",
       "    .dataframe thead th {\n",
       "        text-align: right;\n",
       "    }\n",
       "</style>\n",
       "<table border=\"1\" class=\"dataframe\">\n",
       "  <thead>\n",
       "    <tr style=\"text-align: right;\">\n",
       "      <th></th>\n",
       "      <th>Known Pareto Molecule</th>\n",
       "      <th>Cosine Similarity</th>\n",
       "      <th>Random Valid Molecule</th>\n",
       "    </tr>\n",
       "  </thead>\n",
       "  <tbody>\n",
       "    <tr>\n",
       "      <th>233</th>\n",
       "      <td>UFWIBTONFRDIAS-UHFFFAOYSA-N</td>\n",
       "      <td>0.526907</td>\n",
       "      <td>KYNSBQPICQTCGU-UHFFFAOYSA-N</td>\n",
       "    </tr>\n",
       "  </tbody>\n",
       "</table>\n",
       "</div>"
      ],
      "text/plain": [
       "           Known Pareto Molecule  Cosine Similarity  \\\n",
       "233  UFWIBTONFRDIAS-UHFFFAOYSA-N           0.526907   \n",
       "\n",
       "           Random Valid Molecule  \n",
       "233  KYNSBQPICQTCGU-UHFFFAOYSA-N  "
      ]
     },
     "execution_count": 9,
     "metadata": {},
     "output_type": "execute_result"
    }
   ],
   "source": [
    "top_random.head(1)"
   ]
  },
  {
   "cell_type": "code",
   "execution_count": 10,
   "id": "55caa516-c0b1-4633-a61c-9542b09c0a8a",
   "metadata": {},
   "outputs": [],
   "source": [
    "for data in [top_relevant, top_random]:\n",
    "    for col in data.columns[[0, 2]]:\n",
    "        data[f'{col}-SMILES'] = data[col].apply(find_smiles)"
   ]
  },
  {
   "cell_type": "code",
   "execution_count": 11,
   "id": "51af47a0-9f96-4ed5-bbfd-d4db9a77e5cb",
   "metadata": {},
   "outputs": [
    {
     "data": {
      "text/html": [
       "<div>\n",
       "<style scoped>\n",
       "    .dataframe tbody tr th:only-of-type {\n",
       "        vertical-align: middle;\n",
       "    }\n",
       "\n",
       "    .dataframe tbody tr th {\n",
       "        vertical-align: top;\n",
       "    }\n",
       "\n",
       "    .dataframe thead th {\n",
       "        text-align: right;\n",
       "    }\n",
       "</style>\n",
       "<table border=\"1\" class=\"dataframe\">\n",
       "  <thead>\n",
       "    <tr style=\"text-align: right;\">\n",
       "      <th></th>\n",
       "      <th>Known Pareto Molecule</th>\n",
       "      <th>Cosine Similarity</th>\n",
       "      <th>Random Valid Molecule</th>\n",
       "      <th>Known Pareto Molecule-SMILES</th>\n",
       "      <th>Random Valid Molecule-SMILES</th>\n",
       "    </tr>\n",
       "  </thead>\n",
       "  <tbody>\n",
       "    <tr>\n",
       "      <th>233</th>\n",
       "      <td>UFWIBTONFRDIAS-UHFFFAOYSA-N</td>\n",
       "      <td>0.526907</td>\n",
       "      <td>KYNSBQPICQTCGU-UHFFFAOYSA-N</td>\n",
       "      <td>c1ccc2ccccc2c1</td>\n",
       "      <td>C1=Cc2ccccc2OC1</td>\n",
       "    </tr>\n",
       "  </tbody>\n",
       "</table>\n",
       "</div>"
      ],
      "text/plain": [
       "           Known Pareto Molecule  Cosine Similarity  \\\n",
       "233  UFWIBTONFRDIAS-UHFFFAOYSA-N           0.526907   \n",
       "\n",
       "           Random Valid Molecule Known Pareto Molecule-SMILES  \\\n",
       "233  KYNSBQPICQTCGU-UHFFFAOYSA-N               c1ccc2ccccc2c1   \n",
       "\n",
       "    Random Valid Molecule-SMILES  \n",
       "233              C1=Cc2ccccc2OC1  "
      ]
     },
     "execution_count": 11,
     "metadata": {},
     "output_type": "execute_result"
    }
   ],
   "source": [
    "data.head(1)"
   ]
  },
  {
   "cell_type": "markdown",
   "id": "bc08726c-d1a9-448d-a733-c0040f4e2963",
   "metadata": {},
   "source": [
    "## Compute the Storage Capacity\n",
    "This is a simple calculation from the parsed string. Run it, then store the result in the database"
   ]
  },
  {
   "cell_type": "markdown",
   "id": "8d7b2434-827e-444a-93e0-c8007ee2a750",
   "metadata": {},
   "source": [
    "Do it for the known molecules"
   ]
  },
  {
   "cell_type": "code",
   "execution_count": 12,
   "id": "5f45c53b-85be-4401-a0f2-e85139e2b32d",
   "metadata": {},
   "outputs": [],
   "source": [
    "def compute_wth2_if_needed(smiles: str) -> float:\n",
    "    \"\"\"Compute the wt%H2 of a molecule if we have not already\n",
    "    \n",
    "    Also store the result in the database if it's new.\n",
    "    \n",
    "    Args:\n",
    "        smiles: SMILES string of the molecule in question\n",
    "    Returns:\n",
    "        The storage capacity (wt%H2)\n",
    "    \"\"\"\n",
    "    # Get the document based on the inchi key\n",
    "    key = Chem.MolToInchiKey(Chem.MolFromSmiles(smiles))\n",
    "    record = coll.find_one({'_id': key}, projection=['property'])\n",
    "    if record is None:\n",
    "        return None\n",
    "    \n",
    "    # Check if property is set\n",
    "    if 'wt%H2' not in record.get('property', {}):\n",
    "        wt = compute_wth2(smiles)\n",
    "        coll.update_one({'_id': key}, {'$set': {'property.wt%H2': wt}})\n",
    "    else:\n",
    "        wt = record['property']['wt%H2']\n",
    "    return wt"
   ]
  },
  {
   "cell_type": "code",
   "execution_count": 13,
   "id": "3c94ffdf-f89e-4412-8109-a337167e804c",
   "metadata": {},
   "outputs": [
    {
     "data": {
      "text/plain": [
       "5.517491899109785"
      ]
     },
     "execution_count": 13,
     "metadata": {},
     "output_type": "execute_result"
    }
   ],
   "source": [
    "compute_wth2_if_needed('c1nc[nH]n1')"
   ]
  },
  {
   "cell_type": "code",
   "execution_count": 14,
   "id": "2a10960a-364b-4ea8-96f9-b9c79ee66123",
   "metadata": {},
   "outputs": [],
   "source": [
    "known_molecules = pd.read_csv('../screen-search-space/to-compare.smi', names=['smiles'])"
   ]
  },
  {
   "cell_type": "code",
   "execution_count": 15,
   "id": "7d07d60f-6065-4dda-86a5-91c71c0d0589",
   "metadata": {},
   "outputs": [],
   "source": [
    "for smiles in known_molecules['smiles']:\n",
    "    compute_wth2_if_needed(smiles)"
   ]
  },
  {
   "cell_type": "markdown",
   "id": "e579269b-0f89-412b-9ec1-1eadc1e45003",
   "metadata": {},
   "source": [
    "Run it for the baselines"
   ]
  },
  {
   "cell_type": "code",
   "execution_count": 16,
   "id": "7e40326a-f094-4a0b-9fa5-c51618da2943",
   "metadata": {},
   "outputs": [
    {
     "name": "stderr",
     "output_type": "stream",
     "text": [
      "100%|██████████| 56/56 [00:00<00:00, 83.91it/s] \n"
     ]
    }
   ],
   "source": [
    "for smiles in tqdm(random_smiles + relevant_smiles):\n",
    "    compute_wth2_if_needed(smiles)"
   ]
  },
  {
   "cell_type": "markdown",
   "id": "07784623-98ff-4d18-a065-aacedfa56b9b",
   "metadata": {},
   "source": [
    "Run it for everyone"
   ]
  },
  {
   "cell_type": "code",
   "execution_count": 17,
   "id": "c00bf66b-7775-4991-b58d-e5ee00cee851",
   "metadata": {},
   "outputs": [
    {
     "name": "stderr",
     "output_type": "stream",
     "text": [
      "100%|██████████| 28/28 [00:00<00:00, 789.59it/s]\n"
     ]
    }
   ],
   "source": [
    "for smiles in tqdm(top_random.iloc[:, 4].values):\n",
    "    compute_wth2_if_needed(smiles)"
   ]
  },
  {
   "cell_type": "code",
   "execution_count": 18,
   "id": "6231c47c-ccc6-4be0-885c-00e651ce58d4",
   "metadata": {},
   "outputs": [
    {
     "name": "stderr",
     "output_type": "stream",
     "text": [
      "100%|██████████| 28/28 [00:00<00:00, 880.98it/s]\n"
     ]
    }
   ],
   "source": [
    "for smiles in tqdm(top_relevant.iloc[:, 4].values):\n",
    "    compute_wth2_if_needed(smiles)"
   ]
  },
  {
   "cell_type": "markdown",
   "id": "3adabdd1-07a8-4f66-8d9b-986009fab33e",
   "metadata": {},
   "source": [
    "## Compute the Storage Energy\n",
    "We'll use XTB to make it fast and generally accurate."
   ]
  },
  {
   "cell_type": "markdown",
   "id": "cf843627-3ed0-48f7-8670-00fe6ed1c508",
   "metadata": {},
   "source": [
    "Make the functions first"
   ]
  },
  {
   "cell_type": "code",
   "execution_count": 19,
   "id": "f02774a5-c1c5-4a7a-98d0-16b98c2894fa",
   "metadata": {},
   "outputs": [],
   "source": [
    "def compute_eng_if_needed(smiles: str) -> float:\n",
    "    \"\"\"Compute the energy penalty of a molecule if we have not already\n",
    "    \n",
    "    Also store the result in the database if it's new.\n",
    "    \n",
    "    Args:\n",
    "        smiles: SMILES string of the molecule in question\n",
    "    Returns:\n",
    "        Energy barrier in kJ/mol\n",
    "    \"\"\"\n",
    "    # Get the document based on the inchi key\n",
    "    key = Chem.MolToInchiKey(Chem.MolFromSmiles(smiles))\n",
    "    record = coll.find_one({'_id': key}, projection=['property'])\n",
    "    if record is None:\n",
    "        return None\n",
    "    \n",
    "    # Check if property is set\n",
    "    if 'storage_eng' not in record.get('property', {}):\n",
    "        try:\n",
    "            wt = compute_storage_energy(smiles)\n",
    "        except CalculationFailed as exc:\n",
    "            print(f'{smiles} failed: {exc}')\n",
    "            return\n",
    "        coll.update_one({'_id': key}, {'$set': {'property.storage_eng': wt}})\n",
    "    else:\n",
    "        wt = record['property']['storage_eng']\n",
    "    return wt"
   ]
  },
  {
   "cell_type": "markdown",
   "id": "a0fe59ae-5156-4e3c-9bd9-ff3653bf5681",
   "metadata": {},
   "source": [
    "Run it for the known molecules"
   ]
  },
  {
   "cell_type": "code",
   "execution_count": 20,
   "id": "46e40431-f150-4957-8b89-a46688be4eaa",
   "metadata": {
    "tags": []
   },
   "outputs": [
    {
     "name": "stderr",
     "output_type": "stream",
     "text": [
      "100%|██████████| 149/149 [00:00<00:00, 976.18it/s]\n"
     ]
    }
   ],
   "source": [
    "for smiles in tqdm(known_molecules['smiles']):\n",
    "    compute_eng_if_needed(smiles)"
   ]
  },
  {
   "cell_type": "markdown",
   "id": "26716b4a-9f7a-45ea-b993-459c4ae66de9",
   "metadata": {},
   "source": [
    "Run it for the baselines"
   ]
  },
  {
   "cell_type": "code",
   "execution_count": 21,
   "id": "04612c09-911b-4c3d-bef6-c23e34447b64",
   "metadata": {},
   "outputs": [
    {
     "name": "stderr",
     "output_type": "stream",
     "text": [
      " 52%|█████▏    | 29/56 [01:00<00:56,  2.10s/it]"
     ]
    },
    {
     "name": "stdout",
     "output_type": "stream",
     "text": [
      "I.NC(=NCC1(c2ccc(F)cc2)CCCC1)NCCCN1CCOCC1 failed: xtb could not evaluate input\n"
     ]
    },
    {
     "name": "stderr",
     "output_type": "stream",
     "text": [
      " 82%|████████▏ | 46/56 [03:32<00:51,  5.20s/it]"
     ]
    },
    {
     "name": "stdout",
     "output_type": "stream",
     "text": [
      "Cc1ccnc(N2CCC(C(=O)N(CC3COC3)c3ccc(Cl)cc3)CC2)c1.O=C(C1CCN(c2cc3c(cn2)CCC3)CC1)N1CCOCc2cc(Cl)ccc21.O=C(C1CCN(c2cc3ccccc3cn2)CC1)N1CCOCc2cc(Cl)ccc21 failed: xtb could not evaluate input\n"
     ]
    },
    {
     "name": "stderr",
     "output_type": "stream",
     "text": [
      "[14:36:49] UFFTYPER: Warning: hybridization set to SP3 for atom 0\n",
      "RDKit WARNING: [14:36:49] UFFTYPER: Warning: hybridization set to SP3 for atom 0\n",
      "RDKit ERROR: [14:36:49] UFFTYPER: Unrecognized charge state for atom: 0\n",
      "[14:36:49] UFFTYPER: Unrecognized charge state for atom: 0\n",
      "RDKit WARNING: [14:36:49] UFFTYPER: Warning: hybridization set to SP3 for atom 0\n",
      "RDKit ERROR: [14:36:49] UFFTYPER: Unrecognized charge state for atom: 0\n",
      "[14:36:49] UFFTYPER: Warning: hybridization set to SP3 for atom 0\n",
      "[14:36:49] UFFTYPER: Unrecognized charge state for atom: 0\n",
      "100%|██████████| 56/56 [05:58<00:00,  6.40s/it]"
     ]
    },
    {
     "name": "stdout",
     "output_type": "stream",
     "text": [
      "CCOC(=O)/C=C/C(=O)[O-].CCOC(=O)/C=C/C(=O)[O-].[Mg+2] failed: xtb could not evaluate input\n"
     ]
    },
    {
     "name": "stderr",
     "output_type": "stream",
     "text": [
      "\n"
     ]
    }
   ],
   "source": [
    "for smiles in tqdm(relevant_smiles + random_smiles):\n",
    "    compute_eng_if_needed(smiles)"
   ]
  },
  {
   "cell_type": "markdown",
   "id": "d0fb8c81-0c2b-4c20-bee9-aecd48c5fc1c",
   "metadata": {},
   "source": [
    "Run it for everyone"
   ]
  },
  {
   "cell_type": "code",
   "execution_count": 22,
   "id": "4ffaf6af-242e-4d9d-a89a-7b4c9f6910e0",
   "metadata": {},
   "outputs": [
    {
     "name": "stderr",
     "output_type": "stream",
     "text": [
      "  7%|▋         | 2/28 [07:48<1:41:30, 234.26s/it]RDKit WARNING: [14:47:04] UFFTYPER: Warning: hybridization set to SP3 for atom 1\n",
      "[14:47:04] UFFTYPER: Warning: hybridization set to SP3 for atom 1\n",
      "RDKit WARNING: [14:47:04] UFFTYPER: Warning: hybridization set to SP3 for atom 1\n",
      "[14:47:04] UFFTYPER: Warning: hybridization set to SP3 for atom 1\n",
      " 14%|█▍        | 4/28 [09:33<50:58, 127.45s/it]  "
     ]
    },
    {
     "name": "stdout",
     "output_type": "stream",
     "text": [
      "CC(C)(C)NCc1cc(Nc2ccnc3cc(Cl)ccc23)c2c(c1O)CCCC2.O=P(O)(O)O.O=P(O)(O)O failed: xtb could not evaluate input\n"
     ]
    },
    {
     "name": "stderr",
     "output_type": "stream",
     "text": [
      " 21%|██▏       | 6/28 [41:00<3:03:20, 500.03s/it]RDKit WARNING: [15:20:16] UFFTYPER: Warning: hybridization set to SP3 for atom 1\n",
      "[15:20:16] UFFTYPER: Warning: hybridization set to SP3 for atom 1\n",
      "RDKit WARNING: [15:20:16] UFFTYPER: Warning: hybridization set to SP3 for atom 1\n",
      "[15:20:16] UFFTYPER: Warning: hybridization set to SP3 for atom 1\n",
      " 36%|███▌      | 10/28 [42:46<1:09:33, 231.88s/it]"
     ]
    },
    {
     "name": "stdout",
     "output_type": "stream",
     "text": [
      "CC(C)(C)NCc1cc(Nc2ccnc3cc(Cl)ccc23)c2c(c1O)CCCC2.O=P(O)(O)O.O=P(O)(O)O failed: xtb could not evaluate input\n"
     ]
    },
    {
     "name": "stderr",
     "output_type": "stream",
     "text": [
      "RDKit ERROR: [15:22:01] UFFTYPER: Unrecognized atom type: S_5+4 (1)\n",
      "[15:22:01] UFFTYPER: Unrecognized atom type: S_5+4 (1)\n",
      " 43%|████▎     | 12/28 [45:12<49:39, 186.24s/it]  RDKit WARNING: [15:24:28] UFFTYPER: Warning: hybridization set to SP3 for atom 1\n",
      "[15:24:28] UFFTYPER: Warning: hybridization set to SP3 for atom 1\n",
      "RDKit WARNING: [15:24:28] UFFTYPER: Warning: hybridization set to SP3 for atom 1\n",
      "[15:24:28] UFFTYPER: Warning: hybridization set to SP3 for atom 1\n",
      " 46%|████▋     | 13/28 [46:57<43:04, 172.28s/it]"
     ]
    },
    {
     "name": "stdout",
     "output_type": "stream",
     "text": [
      "CC(C)(C)NCc1cc(Nc2ccnc3cc(Cl)ccc23)c2c(c1O)CCCC2.O=P(O)(O)O.O=P(O)(O)O failed: xtb could not evaluate input\n"
     ]
    },
    {
     "name": "stderr",
     "output_type": "stream",
     "text": [
      "RDKit WARNING: [15:26:12] UFFTYPER: Warning: hybridization set to SP3 for atom 4\n",
      "[15:26:12] UFFTYPER: Warning: hybridization set to SP3 for atom 4\n",
      "RDKit WARNING: [15:26:12] UFFTYPER: Warning: hybridization set to SP3 for atom 4\n",
      "[15:26:12] UFFTYPER: Warning: hybridization set to SP3 for atom 4\n",
      "100%|██████████| 28/28 [58:55<00:00, 126.27s/it]\n"
     ]
    }
   ],
   "source": [
    "for smiles in tqdm(top_random.iloc[:, 4].values):\n",
    "    compute_eng_if_needed(smiles)"
   ]
  },
  {
   "cell_type": "code",
   "execution_count": 23,
   "id": "4883e58b-84ab-4996-9ef5-90d2dc6e0e33",
   "metadata": {},
   "outputs": [
    {
     "name": "stderr",
     "output_type": "stream",
     "text": [
      "100%|██████████| 28/28 [30:53<00:00, 66.18s/it]  \n"
     ]
    }
   ],
   "source": [
    "for smiles in tqdm(top_relevant.iloc[:, 4].values):\n",
    "    compute_eng_if_needed(smiles)"
   ]
  },
  {
   "cell_type": "code",
   "execution_count": null,
   "id": "8de8f553-dfc1-4e2f-830e-e166c64f9dc9",
   "metadata": {},
   "outputs": [],
   "source": []
  }
 ],
 "metadata": {
  "kernelspec": {
   "display_name": "cfree",
   "language": "python",
   "name": "cfree"
  },
  "language_info": {
   "codemirror_mode": {
    "name": "ipython",
    "version": 3
   },
   "file_extension": ".py",
   "mimetype": "text/x-python",
   "name": "python",
   "nbconvert_exporter": "python",
   "pygments_lexer": "ipython3",
   "version": "3.9.16"
  }
 },
 "nbformat": 4,
 "nbformat_minor": 5
}
