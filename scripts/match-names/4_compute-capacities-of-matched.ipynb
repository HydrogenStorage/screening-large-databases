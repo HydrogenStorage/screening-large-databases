{
 "cells": [
  {
   "cell_type": "markdown",
   "id": "38b76a10-94c9-41d1-96ba-6c18a8da6edf",
   "metadata": {},
   "source": [
    "# Compute the Storage Capacity of Matched Molecules"
   ]
  },
  {
   "cell_type": "code",
   "execution_count": 1,
   "id": "61426e54-023c-49d3-9647-7604db6a887b",
   "metadata": {
    "tags": []
   },
   "outputs": [],
   "source": [
    "from mongoengine import connect\n",
    "from cfree.store import MoleculeRecord\n",
    "from cfree.descriptors import compute_wth2, count_h2_difference, saturate_molecule\n",
    "from xtb.ase.calculator import XTB\n",
    "from ase.optimize import QuasiNewton\n",
    "from ase.io import read\n",
    "from ase import units\n",
    "from rdkit.Chem import AllChem\n",
    "from rdkit import Chem\n",
    "from io import StringIO\n",
    "from tqdm import tqdm\n",
    "import pandas as pd\n",
    "import numpy as np"
   ]
  },
  {
   "cell_type": "markdown",
   "id": "5b65ba0c-2b04-4a05-8cd5-ebd7f4d38dac",
   "metadata": {},
   "source": [
    "Configuration"
   ]
  },
  {
   "cell_type": "code",
   "execution_count": 2,
   "id": "d9dfc5de-372e-493c-98f7-6dad849ddd1c",
   "metadata": {
    "tags": []
   },
   "outputs": [],
   "source": [
    "to_run_per_target = 2  # How many baseline structures to test\n",
    "match_type = 'abs-cosine'"
   ]
  },
  {
   "cell_type": "markdown",
   "id": "d3afe4bf-c0d1-40ec-9aa3-5ad405393a42",
   "metadata": {},
   "source": [
    "Connect to the database"
   ]
  },
  {
   "cell_type": "code",
   "execution_count": 3,
   "id": "5f878ed1-aa7b-40ee-a6e8-03b9018ec6e5",
   "metadata": {
    "tags": []
   },
   "outputs": [],
   "source": [
    "client = connect(port=27894)\n",
    "coll = client['cfree']['molecule_record']"
   ]
  },
  {
   "cell_type": "markdown",
   "id": "0ccd6981-3d73-4b85-8ea7-2759f5d92406",
   "metadata": {},
   "source": [
    "## Load the Matches\n",
    "They are stored in CSV files produced by Zhi Hong. Get the top molecules out of Each"
   ]
  },
  {
   "cell_type": "code",
   "execution_count": 4,
   "id": "d623ac1e-2ba9-48ca-83bf-48d57f2a4479",
   "metadata": {},
   "outputs": [
    {
     "name": "stdout",
     "output_type": "stream",
     "text": [
      "Loaded 14 molecules\n"
     ]
    }
   ],
   "source": [
    "relevant = pd.read_csv(f'matched/25apr23-partial-PRD/Known_Pareto-Random_Valid-molecules-{match_type}-all.csv')\n",
    "top_relevant = relevant.sort_values('Cosine Similarity').groupby('Known Pareto Molecule').tail(to_run_per_target)\n",
    "print(f'Loaded {len(top_relevant)} molecules')"
   ]
  },
  {
   "cell_type": "code",
   "execution_count": 5,
   "id": "bbf78f55-c2c6-48ae-84ad-e64f08644c7b",
   "metadata": {},
   "outputs": [
    {
     "name": "stdout",
     "output_type": "stream",
     "text": [
      "Loaded 14 molecules\n"
     ]
    }
   ],
   "source": [
    "random = pd.read_csv(f'matched/25apr23-partial-PRD/Known_Pareto-Relevant_ENA-molecules-{match_type}-all.csv')\n",
    "top_random = random.sort_values('Cosine Similarity').groupby('Known Pareto Molecule').tail(to_run_per_target)\n",
    "print(f'Loaded {len(top_random)} molecules')"
   ]
  },
  {
   "cell_type": "markdown",
   "id": "33a5073a-621d-4bf4-8c5f-934109ac719e",
   "metadata": {},
   "source": [
    "## Get Some Baseline Structures\n",
    "Randomly select records from the database"
   ]
  },
  {
   "cell_type": "code",
   "execution_count": 6,
   "id": "44e25f8f-ae49-40bf-859f-f84c918ce177",
   "metadata": {
    "tags": []
   },
   "outputs": [
    {
     "name": "stdout",
     "output_type": "stream",
     "text": [
      "Pulled 14 random \"valid\" molecules from the database\n",
      "CPU times: user 659 ms, sys: 406 ms, total: 1.06 s\n",
      "Wall time: 21.4 s\n"
     ]
    }
   ],
   "source": [
    "%%time\n",
    "rng = np.random.RandomState(1)\n",
    "random_smiles = sorted([x['identifier']['smiles'] for x in coll.find({'subsets': 'random-valid'}, projection=['identifier.smiles'])])\n",
    "random_smiles = rng.choice(random_smiles, replace=False, size=(len(top_relevant),)).tolist()\n",
    "print(f'Pulled {len(random_smiles)} random \"valid\" molecules from the database')"
   ]
  },
  {
   "cell_type": "code",
   "execution_count": 7,
   "id": "5de6ded0-9322-46d6-9bea-718bd4c5eedc",
   "metadata": {
    "tags": []
   },
   "outputs": [
    {
     "name": "stdout",
     "output_type": "stream",
     "text": [
      "Pulled 14 random \"relevant\" molecules from the database\n",
      "CPU times: user 244 ms, sys: 32.6 ms, total: 276 ms\n",
      "Wall time: 2.45 s\n"
     ]
    }
   ],
   "source": [
    "%%time\n",
    "rng = np.random.RandomState(1)\n",
    "relevant_smiles = sorted([x['identifier']['smiles'] for x in coll.find({'subsets': 'relevant-ENA'}, projection=['identifier.smiles'])])\n",
    "relevant_smiles = rng.choice(relevant_smiles, replace=False, size=(len(top_relevant),)).tolist()\n",
    "print(f'Pulled {len(relevant_smiles)} random \"relevant\" molecules from the database')"
   ]
  },
  {
   "cell_type": "markdown",
   "id": "8e353cb7-7c0e-402c-81ed-0e76dd6e41cb",
   "metadata": {},
   "source": [
    "## Get their Smiles Strings\n",
    "Look that up from the database"
   ]
  },
  {
   "cell_type": "markdown",
   "id": "dd8f7c7d-28c3-4a3d-8706-8d7eae6e1cbb",
   "metadata": {},
   "source": [
    "Get them via projection"
   ]
  },
  {
   "cell_type": "code",
   "execution_count": 8,
   "id": "255b0061-c7ba-4afe-b75c-d2019bcc508e",
   "metadata": {},
   "outputs": [],
   "source": [
    "def find_smiles(key):\n",
    "    \"\"\"Get the record matching a certain InChI Key and return the smiles\"\"\"\n",
    "    return coll.find_one({'_id': key})['identifier']['smiles']"
   ]
  },
  {
   "cell_type": "code",
   "execution_count": 9,
   "id": "7a1a9198-f697-4d0b-9154-373d80f4027b",
   "metadata": {},
   "outputs": [
    {
     "data": {
      "text/html": [
       "<div>\n",
       "<style scoped>\n",
       "    .dataframe tbody tr th:only-of-type {\n",
       "        vertical-align: middle;\n",
       "    }\n",
       "\n",
       "    .dataframe tbody tr th {\n",
       "        vertical-align: top;\n",
       "    }\n",
       "\n",
       "    .dataframe thead th {\n",
       "        text-align: right;\n",
       "    }\n",
       "</style>\n",
       "<table border=\"1\" class=\"dataframe\">\n",
       "  <thead>\n",
       "    <tr style=\"text-align: right;\">\n",
       "      <th></th>\n",
       "      <th>Known Pareto Molecule</th>\n",
       "      <th>Cosine Similarity</th>\n",
       "      <th>Relevant ENA Molecule</th>\n",
       "    </tr>\n",
       "  </thead>\n",
       "  <tbody>\n",
       "    <tr>\n",
       "      <th>1061</th>\n",
       "      <td>UFWIBTONFRDIAS-UHFFFAOYSA-N</td>\n",
       "      <td>0.69438</td>\n",
       "      <td>ZFIFHAKCBWOSRN-UHFFFAOYSA-N</td>\n",
       "    </tr>\n",
       "  </tbody>\n",
       "</table>\n",
       "</div>"
      ],
      "text/plain": [
       "            Known Pareto Molecule  Cosine Similarity  \\\n",
       "1061  UFWIBTONFRDIAS-UHFFFAOYSA-N            0.69438   \n",
       "\n",
       "            Relevant ENA Molecule  \n",
       "1061  ZFIFHAKCBWOSRN-UHFFFAOYSA-N  "
      ]
     },
     "execution_count": 9,
     "metadata": {},
     "output_type": "execute_result"
    }
   ],
   "source": [
    "top_random.head(1)"
   ]
  },
  {
   "cell_type": "code",
   "execution_count": 10,
   "id": "55caa516-c0b1-4633-a61c-9542b09c0a8a",
   "metadata": {},
   "outputs": [],
   "source": [
    "for data in [top_relevant, top_random]:\n",
    "    for col in data.columns[[0, 2]]:\n",
    "        data[f'{col}-SMILES'] = data[col].apply(find_smiles)"
   ]
  },
  {
   "cell_type": "code",
   "execution_count": 11,
   "id": "51af47a0-9f96-4ed5-bbfd-d4db9a77e5cb",
   "metadata": {},
   "outputs": [
    {
     "data": {
      "text/html": [
       "<div>\n",
       "<style scoped>\n",
       "    .dataframe tbody tr th:only-of-type {\n",
       "        vertical-align: middle;\n",
       "    }\n",
       "\n",
       "    .dataframe tbody tr th {\n",
       "        vertical-align: top;\n",
       "    }\n",
       "\n",
       "    .dataframe thead th {\n",
       "        text-align: right;\n",
       "    }\n",
       "</style>\n",
       "<table border=\"1\" class=\"dataframe\">\n",
       "  <thead>\n",
       "    <tr style=\"text-align: right;\">\n",
       "      <th></th>\n",
       "      <th>Known Pareto Molecule</th>\n",
       "      <th>Cosine Similarity</th>\n",
       "      <th>Relevant ENA Molecule</th>\n",
       "      <th>Known Pareto Molecule-SMILES</th>\n",
       "      <th>Relevant ENA Molecule-SMILES</th>\n",
       "    </tr>\n",
       "  </thead>\n",
       "  <tbody>\n",
       "    <tr>\n",
       "      <th>1061</th>\n",
       "      <td>UFWIBTONFRDIAS-UHFFFAOYSA-N</td>\n",
       "      <td>0.694380</td>\n",
       "      <td>ZFIFHAKCBWOSRN-UHFFFAOYSA-N</td>\n",
       "      <td>c1ccc2ccccc2c1</td>\n",
       "      <td>NS(=O)(=O)c1cccc2ccccc12</td>\n",
       "    </tr>\n",
       "    <tr>\n",
       "      <th>1060</th>\n",
       "      <td>UFWIBTONFRDIAS-UHFFFAOYSA-N</td>\n",
       "      <td>0.729625</td>\n",
       "      <td>NQMUGNMMFTYOHK-UHFFFAOYSA-N</td>\n",
       "      <td>c1ccc2ccccc2c1</td>\n",
       "      <td>COc1cccc2ccccc12</td>\n",
       "    </tr>\n",
       "    <tr>\n",
       "      <th>2121</th>\n",
       "      <td>PCNDJXKNXGMECE-UHFFFAOYSA-N</td>\n",
       "      <td>0.733671</td>\n",
       "      <td>XWSSUYOEOWLFEI-UHFFFAOYSA-N</td>\n",
       "      <td>c1ccc2nc3ccccc3nc2c1</td>\n",
       "      <td>c1ccc(-c2cccnn2)cc1</td>\n",
       "    </tr>\n",
       "    <tr>\n",
       "      <th>2120</th>\n",
       "      <td>PCNDJXKNXGMECE-UHFFFAOYSA-N</td>\n",
       "      <td>0.758909</td>\n",
       "      <td>ZYDGCYWJDWIJCS-UHFFFAOYSA-N</td>\n",
       "      <td>c1ccc2nc3ccccc3nc2c1</td>\n",
       "      <td>COc1cccc2nc3ccccc3nc12</td>\n",
       "    </tr>\n",
       "    <tr>\n",
       "      <th>6361</th>\n",
       "      <td>AWJUIBRHMBBTKR-UHFFFAOYSA-N</td>\n",
       "      <td>0.784903</td>\n",
       "      <td>YQZGQXPHGLAEHA-UHFFFAOYSA-N</td>\n",
       "      <td>c1ccc2cnccc2c1</td>\n",
       "      <td>c1ccc(-c2ccc3ccccc3n2)nc1</td>\n",
       "    </tr>\n",
       "    <tr>\n",
       "      <th>5301</th>\n",
       "      <td>JIHQDMXYYFUGFV-UHFFFAOYSA-N</td>\n",
       "      <td>0.795952</td>\n",
       "      <td>UIXYUQXWIFEYBN-UHFFFAOYSA-N</td>\n",
       "      <td>c1ncncn1</td>\n",
       "      <td>c1ccc(-c2cn(-c3ccccc3)nn2)cc1</td>\n",
       "    </tr>\n",
       "    <tr>\n",
       "      <th>6360</th>\n",
       "      <td>AWJUIBRHMBBTKR-UHFFFAOYSA-N</td>\n",
       "      <td>0.801560</td>\n",
       "      <td>FSEXLNMNADBYJU-UHFFFAOYSA-N</td>\n",
       "      <td>c1ccc2cnccc2c1</td>\n",
       "      <td>c1ccc(-c2ccc3ccccc3n2)cc1</td>\n",
       "    </tr>\n",
       "    <tr>\n",
       "      <th>5300</th>\n",
       "      <td>JIHQDMXYYFUGFV-UHFFFAOYSA-N</td>\n",
       "      <td>0.814451</td>\n",
       "      <td>ODKHOKLXMBWVOQ-UHFFFAOYSA-N</td>\n",
       "      <td>c1ncncn1</td>\n",
       "      <td>c1ccc(-c2ncoc2-c2ccccc2)cc1</td>\n",
       "    </tr>\n",
       "    <tr>\n",
       "      <th>1</th>\n",
       "      <td>WTKZEGDFNFYCGP-UHFFFAOYSA-N</td>\n",
       "      <td>0.826533</td>\n",
       "      <td>RQCBPOPQTLHDFC-UHFFFAOYSA-N</td>\n",
       "      <td>c1cn[nH]c1</td>\n",
       "      <td>c1ccc(-c2ncco2)cc1</td>\n",
       "    </tr>\n",
       "    <tr>\n",
       "      <th>0</th>\n",
       "      <td>WTKZEGDFNFYCGP-UHFFFAOYSA-N</td>\n",
       "      <td>0.829909</td>\n",
       "      <td>WYKHSBAVLOPISI-UHFFFAOYSA-N</td>\n",
       "      <td>c1cn[nH]c1</td>\n",
       "      <td>c1ccc(-c2nccs2)cc1</td>\n",
       "    </tr>\n",
       "    <tr>\n",
       "      <th>3181</th>\n",
       "      <td>NSPMIYGKQJPBQR-UHFFFAOYSA-N</td>\n",
       "      <td>0.912606</td>\n",
       "      <td>DCJKUXYSYJBBRD-UHFFFAOYSA-N</td>\n",
       "      <td>c1nc[nH]n1</td>\n",
       "      <td>c1ccc(-c2nnc(-c3ccccc3)o2)cc1</td>\n",
       "    </tr>\n",
       "    <tr>\n",
       "      <th>4241</th>\n",
       "      <td>MWVTWFVJZLCBMC-UHFFFAOYSA-N</td>\n",
       "      <td>0.932703</td>\n",
       "      <td>YTEIHWVCQJZNEN-UHFFFAOYSA-N</td>\n",
       "      <td>c1cc(-c2ccncc2)ccn1</td>\n",
       "      <td>c1cncc(-c2ccncc2)c1</td>\n",
       "    </tr>\n",
       "    <tr>\n",
       "      <th>3180</th>\n",
       "      <td>NSPMIYGKQJPBQR-UHFFFAOYSA-N</td>\n",
       "      <td>0.941083</td>\n",
       "      <td>UIXYUQXWIFEYBN-UHFFFAOYSA-N</td>\n",
       "      <td>c1nc[nH]n1</td>\n",
       "      <td>c1ccc(-c2cn(-c3ccccc3)nn2)cc1</td>\n",
       "    </tr>\n",
       "    <tr>\n",
       "      <th>4240</th>\n",
       "      <td>MWVTWFVJZLCBMC-UHFFFAOYSA-N</td>\n",
       "      <td>0.946537</td>\n",
       "      <td>RMHQDKYZXJVCME-UHFFFAOYSA-N</td>\n",
       "      <td>c1cc(-c2ccncc2)ccn1</td>\n",
       "      <td>c1ccc(-c2ccncc2)nc1</td>\n",
       "    </tr>\n",
       "  </tbody>\n",
       "</table>\n",
       "</div>"
      ],
      "text/plain": [
       "            Known Pareto Molecule  Cosine Similarity  \\\n",
       "1061  UFWIBTONFRDIAS-UHFFFAOYSA-N           0.694380   \n",
       "1060  UFWIBTONFRDIAS-UHFFFAOYSA-N           0.729625   \n",
       "2121  PCNDJXKNXGMECE-UHFFFAOYSA-N           0.733671   \n",
       "2120  PCNDJXKNXGMECE-UHFFFAOYSA-N           0.758909   \n",
       "6361  AWJUIBRHMBBTKR-UHFFFAOYSA-N           0.784903   \n",
       "5301  JIHQDMXYYFUGFV-UHFFFAOYSA-N           0.795952   \n",
       "6360  AWJUIBRHMBBTKR-UHFFFAOYSA-N           0.801560   \n",
       "5300  JIHQDMXYYFUGFV-UHFFFAOYSA-N           0.814451   \n",
       "1     WTKZEGDFNFYCGP-UHFFFAOYSA-N           0.826533   \n",
       "0     WTKZEGDFNFYCGP-UHFFFAOYSA-N           0.829909   \n",
       "3181  NSPMIYGKQJPBQR-UHFFFAOYSA-N           0.912606   \n",
       "4241  MWVTWFVJZLCBMC-UHFFFAOYSA-N           0.932703   \n",
       "3180  NSPMIYGKQJPBQR-UHFFFAOYSA-N           0.941083   \n",
       "4240  MWVTWFVJZLCBMC-UHFFFAOYSA-N           0.946537   \n",
       "\n",
       "            Relevant ENA Molecule Known Pareto Molecule-SMILES  \\\n",
       "1061  ZFIFHAKCBWOSRN-UHFFFAOYSA-N               c1ccc2ccccc2c1   \n",
       "1060  NQMUGNMMFTYOHK-UHFFFAOYSA-N               c1ccc2ccccc2c1   \n",
       "2121  XWSSUYOEOWLFEI-UHFFFAOYSA-N         c1ccc2nc3ccccc3nc2c1   \n",
       "2120  ZYDGCYWJDWIJCS-UHFFFAOYSA-N         c1ccc2nc3ccccc3nc2c1   \n",
       "6361  YQZGQXPHGLAEHA-UHFFFAOYSA-N               c1ccc2cnccc2c1   \n",
       "5301  UIXYUQXWIFEYBN-UHFFFAOYSA-N                     c1ncncn1   \n",
       "6360  FSEXLNMNADBYJU-UHFFFAOYSA-N               c1ccc2cnccc2c1   \n",
       "5300  ODKHOKLXMBWVOQ-UHFFFAOYSA-N                     c1ncncn1   \n",
       "1     RQCBPOPQTLHDFC-UHFFFAOYSA-N                   c1cn[nH]c1   \n",
       "0     WYKHSBAVLOPISI-UHFFFAOYSA-N                   c1cn[nH]c1   \n",
       "3181  DCJKUXYSYJBBRD-UHFFFAOYSA-N                   c1nc[nH]n1   \n",
       "4241  YTEIHWVCQJZNEN-UHFFFAOYSA-N          c1cc(-c2ccncc2)ccn1   \n",
       "3180  UIXYUQXWIFEYBN-UHFFFAOYSA-N                   c1nc[nH]n1   \n",
       "4240  RMHQDKYZXJVCME-UHFFFAOYSA-N          c1cc(-c2ccncc2)ccn1   \n",
       "\n",
       "       Relevant ENA Molecule-SMILES  \n",
       "1061       NS(=O)(=O)c1cccc2ccccc12  \n",
       "1060               COc1cccc2ccccc12  \n",
       "2121            c1ccc(-c2cccnn2)cc1  \n",
       "2120         COc1cccc2nc3ccccc3nc12  \n",
       "6361      c1ccc(-c2ccc3ccccc3n2)nc1  \n",
       "5301  c1ccc(-c2cn(-c3ccccc3)nn2)cc1  \n",
       "6360      c1ccc(-c2ccc3ccccc3n2)cc1  \n",
       "5300    c1ccc(-c2ncoc2-c2ccccc2)cc1  \n",
       "1                c1ccc(-c2ncco2)cc1  \n",
       "0                c1ccc(-c2nccs2)cc1  \n",
       "3181  c1ccc(-c2nnc(-c3ccccc3)o2)cc1  \n",
       "4241            c1cncc(-c2ccncc2)c1  \n",
       "3180  c1ccc(-c2cn(-c3ccccc3)nn2)cc1  \n",
       "4240            c1ccc(-c2ccncc2)nc1  "
      ]
     },
     "execution_count": 11,
     "metadata": {},
     "output_type": "execute_result"
    }
   ],
   "source": [
    "data"
   ]
  },
  {
   "cell_type": "markdown",
   "id": "bc08726c-d1a9-448d-a733-c0040f4e2963",
   "metadata": {},
   "source": [
    "## Compute the Storage Capacity\n",
    "This is a simple calculation from the parsed string. Run it, then store the result in the database"
   ]
  },
  {
   "cell_type": "markdown",
   "id": "8d7b2434-827e-444a-93e0-c8007ee2a750",
   "metadata": {},
   "source": [
    "Do it for the known molecules"
   ]
  },
  {
   "cell_type": "code",
   "execution_count": 12,
   "id": "5f45c53b-85be-4401-a0f2-e85139e2b32d",
   "metadata": {},
   "outputs": [],
   "source": [
    "def compute_wth2_if_needed(smiles: str) -> float:\n",
    "    \"\"\"Compute the wt%H2 of a molecule if we have not already\n",
    "    \n",
    "    Also store the result in the database if it's new.\n",
    "    \n",
    "    Args:\n",
    "        smiles: SMILES string of the molecule in question\n",
    "    Returns:\n",
    "        The storage capacity (wt%H2)\n",
    "    \"\"\"\n",
    "    # Get the document based on the inchi key\n",
    "    key = Chem.MolToInchiKey(Chem.MolFromSmiles(smiles))\n",
    "    record = coll.find_one({'_id': key}, projection=['property'])\n",
    "    if record is None:\n",
    "        return None\n",
    "    \n",
    "    # Check if property is set\n",
    "    if 'wt%H2' not in record.get('property', {}):\n",
    "        wt = compute_wth2(smiles)\n",
    "        coll.update_one({'_id': key}, {'$set': {'property.wt%H2': wt}})\n",
    "    else:\n",
    "        wt = record['property']['wt%H2']\n",
    "    return wt"
   ]
  },
  {
   "cell_type": "code",
   "execution_count": 13,
   "id": "3c94ffdf-f89e-4412-8109-a337167e804c",
   "metadata": {},
   "outputs": [
    {
     "data": {
      "text/plain": [
       "5.517491899109785"
      ]
     },
     "execution_count": 13,
     "metadata": {},
     "output_type": "execute_result"
    }
   ],
   "source": [
    "compute_wth2_if_needed('c1nc[nH]n1')"
   ]
  },
  {
   "cell_type": "code",
   "execution_count": 14,
   "id": "2a10960a-364b-4ea8-96f9-b9c79ee66123",
   "metadata": {},
   "outputs": [],
   "source": [
    "known_molecules = pd.read_csv('../screen-search-space/to-compare.smi', names=['smiles'])"
   ]
  },
  {
   "cell_type": "code",
   "execution_count": 15,
   "id": "7d07d60f-6065-4dda-86a5-91c71c0d0589",
   "metadata": {},
   "outputs": [],
   "source": [
    "for smiles in known_molecules['smiles']:\n",
    "    compute_wth2_if_needed(smiles)"
   ]
  },
  {
   "cell_type": "markdown",
   "id": "e579269b-0f89-412b-9ec1-1eadc1e45003",
   "metadata": {},
   "source": [
    "Run it for the baselines"
   ]
  },
  {
   "cell_type": "code",
   "execution_count": 16,
   "id": "7e40326a-f094-4a0b-9fa5-c51618da2943",
   "metadata": {},
   "outputs": [
    {
     "name": "stderr",
     "output_type": "stream",
     "text": [
      "100%|██████████| 28/28 [00:00<00:00, 500.20it/s]\n"
     ]
    }
   ],
   "source": [
    "for smiles in tqdm(random_smiles + relevant_smiles):\n",
    "    compute_wth2_if_needed(smiles)"
   ]
  },
  {
   "cell_type": "markdown",
   "id": "07784623-98ff-4d18-a065-aacedfa56b9b",
   "metadata": {},
   "source": [
    "Run it for everyone"
   ]
  },
  {
   "cell_type": "code",
   "execution_count": 17,
   "id": "c00bf66b-7775-4991-b58d-e5ee00cee851",
   "metadata": {},
   "outputs": [
    {
     "name": "stderr",
     "output_type": "stream",
     "text": [
      "100%|██████████| 14/14 [00:00<00:00, 893.80it/s]\n"
     ]
    }
   ],
   "source": [
    "for smiles in tqdm(top_random.iloc[:, 4].values):\n",
    "    compute_wth2_if_needed(smiles)"
   ]
  },
  {
   "cell_type": "code",
   "execution_count": 18,
   "id": "6231c47c-ccc6-4be0-885c-00e651ce58d4",
   "metadata": {},
   "outputs": [
    {
     "name": "stderr",
     "output_type": "stream",
     "text": [
      "100%|██████████| 14/14 [00:00<00:00, 842.37it/s]\n"
     ]
    }
   ],
   "source": [
    "for smiles in tqdm(top_relevant.iloc[:, 4].values):\n",
    "    compute_wth2_if_needed(smiles)"
   ]
  },
  {
   "cell_type": "markdown",
   "id": "3adabdd1-07a8-4f66-8d9b-986009fab33e",
   "metadata": {},
   "source": [
    "## Compute the Storage Energy\n",
    "We'll use XTB to make it fast and generally accurate."
   ]
  },
  {
   "cell_type": "markdown",
   "id": "cf843627-3ed0-48f7-8670-00fe6ed1c508",
   "metadata": {},
   "source": [
    "Make the functions first"
   ]
  },
  {
   "cell_type": "code",
   "execution_count": 21,
   "id": "f6afa7f6-bb24-45f2-ab9a-3822517d2091",
   "metadata": {
    "execution": {
     "iopub.execute_input": "2023-04-23T00:47:26.639422Z",
     "iopub.status.busy": "2023-04-23T00:47:26.639137Z",
     "iopub.status.idle": "2023-04-23T00:47:26.644886Z",
     "shell.execute_reply": "2023-04-23T00:47:26.644298Z"
    }
   },
   "outputs": [],
   "source": [
    "def compute_eng_if_needed(smiles: str) -> float:\n",
    "    \"\"\"Compute the storage energy of a molecule if we have not already\n",
    "    \n",
    "    Also store the result in the database if it's new.\n",
    "    \n",
    "    Args:\n",
    "        smiles: SMILES string of the molecule in question\n",
    "    Returns:\n",
    "        The storage energy (kJ/mol)\n",
    "    \"\"\"\n",
    "    # Get the document based on the inchi key\n",
    "    key = Chem.MolToInchiKey(Chem.MolFromSmiles(smiles))\n",
    "    record = coll.find_one({'_id': key}, projection=['property'])\n",
    "    if record is None:\n",
    "        return None\n",
    "    \n",
    "    # Check if property is set\n",
    "    if 'storage_eng' not in record.get('property', {}):\n",
    "        try:\n",
    "            wt = compute_storage_energy(smiles)\n",
    "        except:\n",
    "            return None\n",
    "        coll.update_one({'_id': key}, {'$set': {'property.storage_eng': wt}})\n",
    "    else:\n",
    "        wt = record['property']['storage_eng']\n",
    "    return wt"
   ]
  },
  {
   "cell_type": "markdown",
   "id": "a0fe59ae-5156-4e3c-9bd9-ff3653bf5681",
   "metadata": {},
   "source": [
    "Run it for the known molecules"
   ]
  },
  {
   "cell_type": "code",
   "execution_count": 22,
   "id": "c9ceed71-d49b-4abd-93a0-befb9f2a2601",
   "metadata": {},
   "outputs": [],
   "source": [
    "def compute_eng_if_needed(smiles: str) -> float:\n",
    "    \"\"\"Compute the energy penalty of a molecule if we have not already\n",
    "    \n",
    "    Also store the result in the database if it's new.\n",
    "    \n",
    "    Args:\n",
    "        smiles: SMILES string of the molecule in question\n",
    "    Returns:\n",
    "        Energy barrier in kJ/mol\n",
    "    \"\"\"\n",
    "    # Get the document based on the inchi key\n",
    "    key = Chem.MolToInchiKey(Chem.MolFromSmiles(smiles))\n",
    "    record = coll.find_one({'_id': key}, projection=['property'])\n",
    "    if record is None:\n",
    "        return None\n",
    "    \n",
    "    # Check if property is set\n",
    "    if 'storage_eng' not in record.get('property', {}):\n",
    "        try:\n",
    "            wt = compute_storage_energy(smiles)\n",
    "        except:\n",
    "            return\n",
    "        coll.update_one({'_id': key}, {'$set': {'storage_eng': wt}})\n",
    "    else:\n",
    "        wt = record['property']['wt%H2']\n",
    "    return wt"
   ]
  },
  {
   "cell_type": "code",
   "execution_count": 23,
   "id": "46e40431-f150-4957-8b89-a46688be4eaa",
   "metadata": {
    "tags": []
   },
   "outputs": [
    {
     "name": "stderr",
     "output_type": "stream",
     "text": [
      "100%|██████████| 149/149 [00:00<00:00, 910.22it/s]\n"
     ]
    }
   ],
   "source": [
    "for smiles in tqdm(known_molecules['smiles']):\n",
    "    compute_eng_if_needed(smiles)"
   ]
  },
  {
   "cell_type": "markdown",
   "id": "26716b4a-9f7a-45ea-b993-459c4ae66de9",
   "metadata": {},
   "source": [
    "Run it for the baselines"
   ]
  },
  {
   "cell_type": "code",
   "execution_count": 24,
   "id": "04612c09-911b-4c3d-bef6-c23e34447b64",
   "metadata": {},
   "outputs": [
    {
     "name": "stderr",
     "output_type": "stream",
     "text": [
      "100%|██████████| 28/28 [00:52<00:00,  1.86s/it]\n"
     ]
    }
   ],
   "source": [
    "for smiles in tqdm(relevant_smiles + random_smiles):\n",
    "    compute_eng_if_needed(smiles)"
   ]
  },
  {
   "cell_type": "markdown",
   "id": "d0fb8c81-0c2b-4c20-bee9-aecd48c5fc1c",
   "metadata": {},
   "source": [
    "Run it for everyone"
   ]
  },
  {
   "cell_type": "code",
   "execution_count": null,
   "id": "4ffaf6af-242e-4d9d-a89a-7b4c9f6910e0",
   "metadata": {},
   "outputs": [],
   "source": [
    "for smiles in tqdm(top_random.iloc[:, 4].values):\n",
    "    compute_eng_if_needed(smiles)"
   ]
  },
  {
   "cell_type": "code",
   "execution_count": null,
   "id": "4883e58b-84ab-4996-9ef5-90d2dc6e0e33",
   "metadata": {},
   "outputs": [],
   "source": [
    "for smiles in tqdm(top_relevant.iloc[:, 4].values):\n",
    "    compute_eng_if_needed(smiles)"
   ]
  },
  {
   "cell_type": "code",
   "execution_count": null,
   "id": "8de8f553-dfc1-4e2f-830e-e166c64f9dc9",
   "metadata": {},
   "outputs": [],
   "source": []
  }
 ],
 "metadata": {
  "kernelspec": {
   "display_name": "cfree",
   "language": "python",
   "name": "cfree"
  },
  "language_info": {
   "codemirror_mode": {
    "name": "ipython",
    "version": 3
   },
   "file_extension": ".py",
   "mimetype": "text/x-python",
   "name": "python",
   "nbconvert_exporter": "python",
   "pygments_lexer": "ipython3",
   "version": "3.9.16"
  }
 },
 "nbformat": 4,
 "nbformat_minor": 5
}
